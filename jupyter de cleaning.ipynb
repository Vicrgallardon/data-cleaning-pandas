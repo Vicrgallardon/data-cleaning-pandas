{
 "cells": [
  {
   "cell_type": "code",
   "execution_count": 1,
   "id": "77b001d2",
   "metadata": {},
   "outputs": [],
   "source": [
    "import pandas as pd"
   ]
  },
  {
   "cell_type": "code",
   "execution_count": 2,
   "id": "c9879cb2",
   "metadata": {},
   "outputs": [],
   "source": [
    "data = pd.read_csv(\"./attacks.csv\", encoding=\"ISO-8859-1\")"
   ]
  },
  {
   "cell_type": "code",
   "execution_count": 3,
   "id": "48b37d86",
   "metadata": {},
   "outputs": [],
   "source": [
    " #Elimina los espacios al final de cada título en las columnas\n",
    "data.columns = data.columns.str.rstrip()"
   ]
  },
  {
   "cell_type": "code",
   "execution_count": 4,
   "id": "959024fd",
   "metadata": {},
   "outputs": [
    {
     "data": {
      "text/html": [
       "<div>\n",
       "<style scoped>\n",
       "    .dataframe tbody tr th:only-of-type {\n",
       "        vertical-align: middle;\n",
       "    }\n",
       "\n",
       "    .dataframe tbody tr th {\n",
       "        vertical-align: top;\n",
       "    }\n",
       "\n",
       "    .dataframe thead th {\n",
       "        text-align: right;\n",
       "    }\n",
       "</style>\n",
       "<table border=\"1\" class=\"dataframe\">\n",
       "  <thead>\n",
       "    <tr style=\"text-align: right;\">\n",
       "      <th></th>\n",
       "      <th>Case Number</th>\n",
       "      <th>Date</th>\n",
       "      <th>Year</th>\n",
       "      <th>Type</th>\n",
       "      <th>Country</th>\n",
       "      <th>Area</th>\n",
       "      <th>Location</th>\n",
       "      <th>Activity</th>\n",
       "      <th>Name</th>\n",
       "      <th>Sex</th>\n",
       "      <th>...</th>\n",
       "      <th>Species</th>\n",
       "      <th>Investigator or Source</th>\n",
       "      <th>pdf</th>\n",
       "      <th>href formula</th>\n",
       "      <th>href</th>\n",
       "      <th>Case Number.1</th>\n",
       "      <th>Case Number.2</th>\n",
       "      <th>original order</th>\n",
       "      <th>Unnamed: 22</th>\n",
       "      <th>Unnamed: 23</th>\n",
       "    </tr>\n",
       "  </thead>\n",
       "  <tbody>\n",
       "    <tr>\n",
       "      <th>0</th>\n",
       "      <td>2018.06.25</td>\n",
       "      <td>25-Jun-2018</td>\n",
       "      <td>2018.0</td>\n",
       "      <td>Boating</td>\n",
       "      <td>USA</td>\n",
       "      <td>California</td>\n",
       "      <td>Oceanside, San Diego County</td>\n",
       "      <td>Paddling</td>\n",
       "      <td>Julie Wolfe</td>\n",
       "      <td>F</td>\n",
       "      <td>...</td>\n",
       "      <td>White shark</td>\n",
       "      <td>R. Collier, GSAF</td>\n",
       "      <td>2018.06.25-Wolfe.pdf</td>\n",
       "      <td>http://sharkattackfile.net/spreadsheets/pdf_di...</td>\n",
       "      <td>http://sharkattackfile.net/spreadsheets/pdf_di...</td>\n",
       "      <td>2018.06.25</td>\n",
       "      <td>2018.06.25</td>\n",
       "      <td>6303.0</td>\n",
       "      <td>NaN</td>\n",
       "      <td>NaN</td>\n",
       "    </tr>\n",
       "    <tr>\n",
       "      <th>1</th>\n",
       "      <td>2018.06.18</td>\n",
       "      <td>18-Jun-2018</td>\n",
       "      <td>2018.0</td>\n",
       "      <td>Unprovoked</td>\n",
       "      <td>USA</td>\n",
       "      <td>Georgia</td>\n",
       "      <td>St. Simon Island, Glynn County</td>\n",
       "      <td>Standing</td>\n",
       "      <td>Adyson McNeely</td>\n",
       "      <td>F</td>\n",
       "      <td>...</td>\n",
       "      <td>NaN</td>\n",
       "      <td>K.McMurray, TrackingSharks.com</td>\n",
       "      <td>2018.06.18-McNeely.pdf</td>\n",
       "      <td>http://sharkattackfile.net/spreadsheets/pdf_di...</td>\n",
       "      <td>http://sharkattackfile.net/spreadsheets/pdf_di...</td>\n",
       "      <td>2018.06.18</td>\n",
       "      <td>2018.06.18</td>\n",
       "      <td>6302.0</td>\n",
       "      <td>NaN</td>\n",
       "      <td>NaN</td>\n",
       "    </tr>\n",
       "    <tr>\n",
       "      <th>2</th>\n",
       "      <td>2018.06.09</td>\n",
       "      <td>09-Jun-2018</td>\n",
       "      <td>2018.0</td>\n",
       "      <td>Invalid</td>\n",
       "      <td>USA</td>\n",
       "      <td>Hawaii</td>\n",
       "      <td>Habush, Oahu</td>\n",
       "      <td>Surfing</td>\n",
       "      <td>John Denges</td>\n",
       "      <td>M</td>\n",
       "      <td>...</td>\n",
       "      <td>NaN</td>\n",
       "      <td>K.McMurray, TrackingSharks.com</td>\n",
       "      <td>2018.06.09-Denges.pdf</td>\n",
       "      <td>http://sharkattackfile.net/spreadsheets/pdf_di...</td>\n",
       "      <td>http://sharkattackfile.net/spreadsheets/pdf_di...</td>\n",
       "      <td>2018.06.09</td>\n",
       "      <td>2018.06.09</td>\n",
       "      <td>6301.0</td>\n",
       "      <td>NaN</td>\n",
       "      <td>NaN</td>\n",
       "    </tr>\n",
       "    <tr>\n",
       "      <th>3</th>\n",
       "      <td>2018.06.08</td>\n",
       "      <td>08-Jun-2018</td>\n",
       "      <td>2018.0</td>\n",
       "      <td>Unprovoked</td>\n",
       "      <td>AUSTRALIA</td>\n",
       "      <td>New South Wales</td>\n",
       "      <td>Arrawarra Headland</td>\n",
       "      <td>Surfing</td>\n",
       "      <td>male</td>\n",
       "      <td>M</td>\n",
       "      <td>...</td>\n",
       "      <td>2 m shark</td>\n",
       "      <td>B. Myatt, GSAF</td>\n",
       "      <td>2018.06.08-Arrawarra.pdf</td>\n",
       "      <td>http://sharkattackfile.net/spreadsheets/pdf_di...</td>\n",
       "      <td>http://sharkattackfile.net/spreadsheets/pdf_di...</td>\n",
       "      <td>2018.06.08</td>\n",
       "      <td>2018.06.08</td>\n",
       "      <td>6300.0</td>\n",
       "      <td>NaN</td>\n",
       "      <td>NaN</td>\n",
       "    </tr>\n",
       "    <tr>\n",
       "      <th>4</th>\n",
       "      <td>2018.06.04</td>\n",
       "      <td>04-Jun-2018</td>\n",
       "      <td>2018.0</td>\n",
       "      <td>Provoked</td>\n",
       "      <td>MEXICO</td>\n",
       "      <td>Colima</td>\n",
       "      <td>La Ticla</td>\n",
       "      <td>Free diving</td>\n",
       "      <td>Gustavo Ramos</td>\n",
       "      <td>M</td>\n",
       "      <td>...</td>\n",
       "      <td>Tiger shark, 3m</td>\n",
       "      <td>A .Kipper</td>\n",
       "      <td>2018.06.04-Ramos.pdf</td>\n",
       "      <td>http://sharkattackfile.net/spreadsheets/pdf_di...</td>\n",
       "      <td>http://sharkattackfile.net/spreadsheets/pdf_di...</td>\n",
       "      <td>2018.06.04</td>\n",
       "      <td>2018.06.04</td>\n",
       "      <td>6299.0</td>\n",
       "      <td>NaN</td>\n",
       "      <td>NaN</td>\n",
       "    </tr>\n",
       "  </tbody>\n",
       "</table>\n",
       "<p>5 rows × 24 columns</p>\n",
       "</div>"
      ],
      "text/plain": [
       "  Case Number         Date    Year        Type    Country             Area  \\\n",
       "0  2018.06.25  25-Jun-2018  2018.0     Boating        USA       California   \n",
       "1  2018.06.18  18-Jun-2018  2018.0  Unprovoked        USA          Georgia   \n",
       "2  2018.06.09  09-Jun-2018  2018.0     Invalid        USA           Hawaii   \n",
       "3  2018.06.08  08-Jun-2018  2018.0  Unprovoked  AUSTRALIA  New South Wales   \n",
       "4  2018.06.04  04-Jun-2018  2018.0    Provoked     MEXICO           Colima   \n",
       "\n",
       "                         Location     Activity             Name Sex  ...  \\\n",
       "0     Oceanside, San Diego County     Paddling      Julie Wolfe   F  ...   \n",
       "1  St. Simon Island, Glynn County     Standing  Adyson McNeely    F  ...   \n",
       "2                    Habush, Oahu      Surfing      John Denges   M  ...   \n",
       "3              Arrawarra Headland      Surfing             male   M  ...   \n",
       "4                        La Ticla  Free diving   Gustavo Ramos    M  ...   \n",
       "\n",
       "           Species          Investigator or Source                       pdf  \\\n",
       "0      White shark                R. Collier, GSAF      2018.06.25-Wolfe.pdf   \n",
       "1              NaN  K.McMurray, TrackingSharks.com    2018.06.18-McNeely.pdf   \n",
       "2              NaN  K.McMurray, TrackingSharks.com     2018.06.09-Denges.pdf   \n",
       "3        2 m shark                  B. Myatt, GSAF  2018.06.08-Arrawarra.pdf   \n",
       "4  Tiger shark, 3m                       A .Kipper      2018.06.04-Ramos.pdf   \n",
       "\n",
       "                                        href formula  \\\n",
       "0  http://sharkattackfile.net/spreadsheets/pdf_di...   \n",
       "1  http://sharkattackfile.net/spreadsheets/pdf_di...   \n",
       "2  http://sharkattackfile.net/spreadsheets/pdf_di...   \n",
       "3  http://sharkattackfile.net/spreadsheets/pdf_di...   \n",
       "4  http://sharkattackfile.net/spreadsheets/pdf_di...   \n",
       "\n",
       "                                                href Case Number.1  \\\n",
       "0  http://sharkattackfile.net/spreadsheets/pdf_di...    2018.06.25   \n",
       "1  http://sharkattackfile.net/spreadsheets/pdf_di...    2018.06.18   \n",
       "2  http://sharkattackfile.net/spreadsheets/pdf_di...    2018.06.09   \n",
       "3  http://sharkattackfile.net/spreadsheets/pdf_di...    2018.06.08   \n",
       "4  http://sharkattackfile.net/spreadsheets/pdf_di...    2018.06.04   \n",
       "\n",
       "  Case Number.2 original order Unnamed: 22 Unnamed: 23  \n",
       "0    2018.06.25         6303.0         NaN         NaN  \n",
       "1    2018.06.18         6302.0         NaN         NaN  \n",
       "2    2018.06.09         6301.0         NaN         NaN  \n",
       "3    2018.06.08         6300.0         NaN         NaN  \n",
       "4    2018.06.04         6299.0         NaN         NaN  \n",
       "\n",
       "[5 rows x 24 columns]"
      ]
     },
     "execution_count": 4,
     "metadata": {},
     "output_type": "execute_result"
    }
   ],
   "source": [
    "\n",
    "data.head()\n",
    "\n",
    "\n"
   ]
  },
  {
   "cell_type": "code",
   "execution_count": 4,
   "id": "7cc2103c",
   "metadata": {},
   "outputs": [
    {
     "data": {
      "text/plain": [
       "(25723, 24)"
      ]
     },
     "execution_count": 4,
     "metadata": {},
     "output_type": "execute_result"
    }
   ],
   "source": [
    "data.shape"
   ]
  },
  {
   "cell_type": "code",
   "execution_count": 5,
   "id": "3b35fdfd",
   "metadata": {},
   "outputs": [
    {
     "data": {
      "text/html": [
       "<div>\n",
       "<style scoped>\n",
       "    .dataframe tbody tr th:only-of-type {\n",
       "        vertical-align: middle;\n",
       "    }\n",
       "\n",
       "    .dataframe tbody tr th {\n",
       "        vertical-align: top;\n",
       "    }\n",
       "\n",
       "    .dataframe thead th {\n",
       "        text-align: right;\n",
       "    }\n",
       "</style>\n",
       "<table border=\"1\" class=\"dataframe\">\n",
       "  <thead>\n",
       "    <tr style=\"text-align: right;\">\n",
       "      <th></th>\n",
       "      <th>Case Number</th>\n",
       "      <th>Date</th>\n",
       "      <th>Year</th>\n",
       "      <th>Type</th>\n",
       "      <th>Country</th>\n",
       "      <th>Area</th>\n",
       "      <th>Location</th>\n",
       "      <th>Activity</th>\n",
       "      <th>Name</th>\n",
       "      <th>Sex</th>\n",
       "      <th>...</th>\n",
       "      <th>Species</th>\n",
       "      <th>Investigator or Source</th>\n",
       "      <th>pdf</th>\n",
       "      <th>href formula</th>\n",
       "      <th>href</th>\n",
       "      <th>Case Number.1</th>\n",
       "      <th>Case Number.2</th>\n",
       "      <th>original order</th>\n",
       "      <th>Unnamed: 22</th>\n",
       "      <th>Unnamed: 23</th>\n",
       "    </tr>\n",
       "  </thead>\n",
       "  <tbody>\n",
       "    <tr>\n",
       "      <th>10262</th>\n",
       "      <td>NaN</td>\n",
       "      <td>NaN</td>\n",
       "      <td>NaN</td>\n",
       "      <td>NaN</td>\n",
       "      <td>NaN</td>\n",
       "      <td>NaN</td>\n",
       "      <td>NaN</td>\n",
       "      <td>NaN</td>\n",
       "      <td>NaN</td>\n",
       "      <td>NaN</td>\n",
       "      <td>...</td>\n",
       "      <td>NaN</td>\n",
       "      <td>NaN</td>\n",
       "      <td>NaN</td>\n",
       "      <td>NaN</td>\n",
       "      <td>NaN</td>\n",
       "      <td>NaN</td>\n",
       "      <td>NaN</td>\n",
       "      <td>NaN</td>\n",
       "      <td>NaN</td>\n",
       "      <td>NaN</td>\n",
       "    </tr>\n",
       "    <tr>\n",
       "      <th>6701</th>\n",
       "      <td>0</td>\n",
       "      <td>NaN</td>\n",
       "      <td>NaN</td>\n",
       "      <td>NaN</td>\n",
       "      <td>NaN</td>\n",
       "      <td>NaN</td>\n",
       "      <td>NaN</td>\n",
       "      <td>NaN</td>\n",
       "      <td>NaN</td>\n",
       "      <td>NaN</td>\n",
       "      <td>...</td>\n",
       "      <td>NaN</td>\n",
       "      <td>NaN</td>\n",
       "      <td>NaN</td>\n",
       "      <td>NaN</td>\n",
       "      <td>NaN</td>\n",
       "      <td>NaN</td>\n",
       "      <td>NaN</td>\n",
       "      <td>NaN</td>\n",
       "      <td>NaN</td>\n",
       "      <td>NaN</td>\n",
       "    </tr>\n",
       "    <tr>\n",
       "      <th>19386</th>\n",
       "      <td>NaN</td>\n",
       "      <td>NaN</td>\n",
       "      <td>NaN</td>\n",
       "      <td>NaN</td>\n",
       "      <td>NaN</td>\n",
       "      <td>NaN</td>\n",
       "      <td>NaN</td>\n",
       "      <td>NaN</td>\n",
       "      <td>NaN</td>\n",
       "      <td>NaN</td>\n",
       "      <td>...</td>\n",
       "      <td>NaN</td>\n",
       "      <td>NaN</td>\n",
       "      <td>NaN</td>\n",
       "      <td>NaN</td>\n",
       "      <td>NaN</td>\n",
       "      <td>NaN</td>\n",
       "      <td>NaN</td>\n",
       "      <td>NaN</td>\n",
       "      <td>NaN</td>\n",
       "      <td>NaN</td>\n",
       "    </tr>\n",
       "    <tr>\n",
       "      <th>22540</th>\n",
       "      <td>NaN</td>\n",
       "      <td>NaN</td>\n",
       "      <td>NaN</td>\n",
       "      <td>NaN</td>\n",
       "      <td>NaN</td>\n",
       "      <td>NaN</td>\n",
       "      <td>NaN</td>\n",
       "      <td>NaN</td>\n",
       "      <td>NaN</td>\n",
       "      <td>NaN</td>\n",
       "      <td>...</td>\n",
       "      <td>NaN</td>\n",
       "      <td>NaN</td>\n",
       "      <td>NaN</td>\n",
       "      <td>NaN</td>\n",
       "      <td>NaN</td>\n",
       "      <td>NaN</td>\n",
       "      <td>NaN</td>\n",
       "      <td>NaN</td>\n",
       "      <td>NaN</td>\n",
       "      <td>NaN</td>\n",
       "    </tr>\n",
       "    <tr>\n",
       "      <th>21433</th>\n",
       "      <td>NaN</td>\n",
       "      <td>NaN</td>\n",
       "      <td>NaN</td>\n",
       "      <td>NaN</td>\n",
       "      <td>NaN</td>\n",
       "      <td>NaN</td>\n",
       "      <td>NaN</td>\n",
       "      <td>NaN</td>\n",
       "      <td>NaN</td>\n",
       "      <td>NaN</td>\n",
       "      <td>...</td>\n",
       "      <td>NaN</td>\n",
       "      <td>NaN</td>\n",
       "      <td>NaN</td>\n",
       "      <td>NaN</td>\n",
       "      <td>NaN</td>\n",
       "      <td>NaN</td>\n",
       "      <td>NaN</td>\n",
       "      <td>NaN</td>\n",
       "      <td>NaN</td>\n",
       "      <td>NaN</td>\n",
       "    </tr>\n",
       "    <tr>\n",
       "      <th>11265</th>\n",
       "      <td>NaN</td>\n",
       "      <td>NaN</td>\n",
       "      <td>NaN</td>\n",
       "      <td>NaN</td>\n",
       "      <td>NaN</td>\n",
       "      <td>NaN</td>\n",
       "      <td>NaN</td>\n",
       "      <td>NaN</td>\n",
       "      <td>NaN</td>\n",
       "      <td>NaN</td>\n",
       "      <td>...</td>\n",
       "      <td>NaN</td>\n",
       "      <td>NaN</td>\n",
       "      <td>NaN</td>\n",
       "      <td>NaN</td>\n",
       "      <td>NaN</td>\n",
       "      <td>NaN</td>\n",
       "      <td>NaN</td>\n",
       "      <td>NaN</td>\n",
       "      <td>NaN</td>\n",
       "      <td>NaN</td>\n",
       "    </tr>\n",
       "    <tr>\n",
       "      <th>1649</th>\n",
       "      <td>2004.07.31</td>\n",
       "      <td>31-Jul-2004</td>\n",
       "      <td>2004.0</td>\n",
       "      <td>Unprovoked</td>\n",
       "      <td>USA</td>\n",
       "      <td>Florida</td>\n",
       "      <td>Cocoa  Beach, Brevard County</td>\n",
       "      <td>Surfing</td>\n",
       "      <td>Kelly Getzfread</td>\n",
       "      <td>F</td>\n",
       "      <td>...</td>\n",
       "      <td>NaN</td>\n",
       "      <td>C. Creswell, GSAF</td>\n",
       "      <td>2004.07.31-Getzfread.pdf</td>\n",
       "      <td>http://sharkattackfile.net/spreadsheets/pdf_di...</td>\n",
       "      <td>http://sharkattackfile.net/spreadsheets/pdf_di...</td>\n",
       "      <td>2004.07.31</td>\n",
       "      <td>2004.07.31</td>\n",
       "      <td>4654.0</td>\n",
       "      <td>NaN</td>\n",
       "      <td>NaN</td>\n",
       "    </tr>\n",
       "    <tr>\n",
       "      <th>4982</th>\n",
       "      <td>1932.08.10</td>\n",
       "      <td>10-Aug-1932</td>\n",
       "      <td>1932.0</td>\n",
       "      <td>Provoked</td>\n",
       "      <td>USA</td>\n",
       "      <td>New Jersey</td>\n",
       "      <td>Offshore, between Mantoloking &amp; Point Pleasant...</td>\n",
       "      <td>Fishing</td>\n",
       "      <td>John Olsen</td>\n",
       "      <td>M</td>\n",
       "      <td>...</td>\n",
       "      <td>16' 800-lb shark</td>\n",
       "      <td>Lime Springs Herald, 9/22/1932; R. Heyer</td>\n",
       "      <td>1932.08.10-Olsen.pdf</td>\n",
       "      <td>http://sharkattackfile.net/spreadsheets/pdf_di...</td>\n",
       "      <td>http://sharkattackfile.net/spreadsheets/pdf_di...</td>\n",
       "      <td>1932.08.10</td>\n",
       "      <td>1932.08.10</td>\n",
       "      <td>1321.0</td>\n",
       "      <td>NaN</td>\n",
       "      <td>NaN</td>\n",
       "    </tr>\n",
       "    <tr>\n",
       "      <th>21241</th>\n",
       "      <td>NaN</td>\n",
       "      <td>NaN</td>\n",
       "      <td>NaN</td>\n",
       "      <td>NaN</td>\n",
       "      <td>NaN</td>\n",
       "      <td>NaN</td>\n",
       "      <td>NaN</td>\n",
       "      <td>NaN</td>\n",
       "      <td>NaN</td>\n",
       "      <td>NaN</td>\n",
       "      <td>...</td>\n",
       "      <td>NaN</td>\n",
       "      <td>NaN</td>\n",
       "      <td>NaN</td>\n",
       "      <td>NaN</td>\n",
       "      <td>NaN</td>\n",
       "      <td>NaN</td>\n",
       "      <td>NaN</td>\n",
       "      <td>NaN</td>\n",
       "      <td>NaN</td>\n",
       "      <td>NaN</td>\n",
       "    </tr>\n",
       "    <tr>\n",
       "      <th>19713</th>\n",
       "      <td>NaN</td>\n",
       "      <td>NaN</td>\n",
       "      <td>NaN</td>\n",
       "      <td>NaN</td>\n",
       "      <td>NaN</td>\n",
       "      <td>NaN</td>\n",
       "      <td>NaN</td>\n",
       "      <td>NaN</td>\n",
       "      <td>NaN</td>\n",
       "      <td>NaN</td>\n",
       "      <td>...</td>\n",
       "      <td>NaN</td>\n",
       "      <td>NaN</td>\n",
       "      <td>NaN</td>\n",
       "      <td>NaN</td>\n",
       "      <td>NaN</td>\n",
       "      <td>NaN</td>\n",
       "      <td>NaN</td>\n",
       "      <td>NaN</td>\n",
       "      <td>NaN</td>\n",
       "      <td>NaN</td>\n",
       "    </tr>\n",
       "  </tbody>\n",
       "</table>\n",
       "<p>10 rows × 24 columns</p>\n",
       "</div>"
      ],
      "text/plain": [
       "      Case Number         Date    Year        Type Country        Area  \\\n",
       "10262         NaN          NaN     NaN         NaN     NaN         NaN   \n",
       "6701            0          NaN     NaN         NaN     NaN         NaN   \n",
       "19386         NaN          NaN     NaN         NaN     NaN         NaN   \n",
       "22540         NaN          NaN     NaN         NaN     NaN         NaN   \n",
       "21433         NaN          NaN     NaN         NaN     NaN         NaN   \n",
       "11265         NaN          NaN     NaN         NaN     NaN         NaN   \n",
       "1649   2004.07.31  31-Jul-2004  2004.0  Unprovoked     USA     Florida   \n",
       "4982   1932.08.10  10-Aug-1932  1932.0    Provoked     USA  New Jersey   \n",
       "21241         NaN          NaN     NaN         NaN     NaN         NaN   \n",
       "19713         NaN          NaN     NaN         NaN     NaN         NaN   \n",
       "\n",
       "                                                Location Activity  \\\n",
       "10262                                                NaN      NaN   \n",
       "6701                                                 NaN      NaN   \n",
       "19386                                                NaN      NaN   \n",
       "22540                                                NaN      NaN   \n",
       "21433                                                NaN      NaN   \n",
       "11265                                                NaN      NaN   \n",
       "1649                        Cocoa  Beach, Brevard County  Surfing   \n",
       "4982   Offshore, between Mantoloking & Point Pleasant...  Fishing   \n",
       "21241                                                NaN      NaN   \n",
       "19713                                                NaN      NaN   \n",
       "\n",
       "                  Name Sex   ...          Species   \\\n",
       "10262              NaN  NaN  ...               NaN   \n",
       "6701               NaN  NaN  ...               NaN   \n",
       "19386              NaN  NaN  ...               NaN   \n",
       "22540              NaN  NaN  ...               NaN   \n",
       "21433              NaN  NaN  ...               NaN   \n",
       "11265              NaN  NaN  ...               NaN   \n",
       "1649   Kelly Getzfread    F  ...               NaN   \n",
       "4982        John Olsen    M  ...  16' 800-lb shark   \n",
       "21241              NaN  NaN  ...               NaN   \n",
       "19713              NaN  NaN  ...               NaN   \n",
       "\n",
       "                         Investigator or Source                       pdf  \\\n",
       "10262                                       NaN                       NaN   \n",
       "6701                                        NaN                       NaN   \n",
       "19386                                       NaN                       NaN   \n",
       "22540                                       NaN                       NaN   \n",
       "21433                                       NaN                       NaN   \n",
       "11265                                       NaN                       NaN   \n",
       "1649                          C. Creswell, GSAF  2004.07.31-Getzfread.pdf   \n",
       "4982   Lime Springs Herald, 9/22/1932; R. Heyer      1932.08.10-Olsen.pdf   \n",
       "21241                                       NaN                       NaN   \n",
       "19713                                       NaN                       NaN   \n",
       "\n",
       "                                            href formula  \\\n",
       "10262                                                NaN   \n",
       "6701                                                 NaN   \n",
       "19386                                                NaN   \n",
       "22540                                                NaN   \n",
       "21433                                                NaN   \n",
       "11265                                                NaN   \n",
       "1649   http://sharkattackfile.net/spreadsheets/pdf_di...   \n",
       "4982   http://sharkattackfile.net/spreadsheets/pdf_di...   \n",
       "21241                                                NaN   \n",
       "19713                                                NaN   \n",
       "\n",
       "                                                    href Case Number.1  \\\n",
       "10262                                                NaN           NaN   \n",
       "6701                                                 NaN           NaN   \n",
       "19386                                                NaN           NaN   \n",
       "22540                                                NaN           NaN   \n",
       "21433                                                NaN           NaN   \n",
       "11265                                                NaN           NaN   \n",
       "1649   http://sharkattackfile.net/spreadsheets/pdf_di...    2004.07.31   \n",
       "4982   http://sharkattackfile.net/spreadsheets/pdf_di...    1932.08.10   \n",
       "21241                                                NaN           NaN   \n",
       "19713                                                NaN           NaN   \n",
       "\n",
       "      Case Number.2 original order Unnamed: 22 Unnamed: 23  \n",
       "10262           NaN            NaN         NaN         NaN  \n",
       "6701            NaN            NaN         NaN         NaN  \n",
       "19386           NaN            NaN         NaN         NaN  \n",
       "22540           NaN            NaN         NaN         NaN  \n",
       "21433           NaN            NaN         NaN         NaN  \n",
       "11265           NaN            NaN         NaN         NaN  \n",
       "1649     2004.07.31         4654.0         NaN         NaN  \n",
       "4982     1932.08.10         1321.0         NaN         NaN  \n",
       "21241           NaN            NaN         NaN         NaN  \n",
       "19713           NaN            NaN         NaN         NaN  \n",
       "\n",
       "[10 rows x 24 columns]"
      ]
     },
     "execution_count": 5,
     "metadata": {},
     "output_type": "execute_result"
    }
   ],
   "source": [
    "data.sample(10)"
   ]
  },
  {
   "cell_type": "code",
   "execution_count": 5,
   "id": "35c10bbd",
   "metadata": {},
   "outputs": [
    {
     "ename": "ModuleNotFoundError",
     "evalue": "No module named 'cleaning_utils'",
     "output_type": "error",
     "traceback": [
      "\u001b[0;31m---------------------------------------------------------------------------\u001b[0m",
      "\u001b[0;31mModuleNotFoundError\u001b[0m                       Traceback (most recent call last)",
      "\u001b[0;32m<ipython-input-5-735629d4a173>\u001b[0m in \u001b[0;36m<module>\u001b[0;34m\u001b[0m\n\u001b[0;32m----> 1\u001b[0;31m \u001b[0;32mimport\u001b[0m \u001b[0mcleaning_utils\u001b[0m\u001b[0;34m.\u001b[0m\u001b[0mpy\u001b[0m \u001b[0;32mas\u001b[0m \u001b[0mcl\u001b[0m\u001b[0;34m\u001b[0m\u001b[0;34m\u001b[0m\u001b[0m\n\u001b[0m",
      "\u001b[0;31mModuleNotFoundError\u001b[0m: No module named 'cleaning_utils'"
     ]
    }
   ],
   "source": [
    "\n",
    "import cleaning_utils.py as cl"
   ]
  },
  {
   "cell_type": "markdown",
   "id": "bcbecd41",
   "metadata": {},
   "source": [
    "#### Análisis de datos para establecer las hipótesis"
   ]
  },
  {
   "cell_type": "code",
   "execution_count": 6,
   "id": "188ae740",
   "metadata": {},
   "outputs": [
    {
     "data": {
      "text/plain": [
       "count     6252\n",
       "unique     212\n",
       "top        USA\n",
       "freq      2229\n",
       "Name: Country, dtype: object"
      ]
     },
     "execution_count": 6,
     "metadata": {},
     "output_type": "execute_result"
    }
   ],
   "source": [
    "data[\"Country\"].describe()"
   ]
  },
  {
   "cell_type": "code",
   "execution_count": 8,
   "id": "ab4c6b27",
   "metadata": {},
   "outputs": [
    {
     "data": {
      "text/plain": [
       "N          4293\n",
       "Y          1388\n",
       "UNKNOWN      71\n",
       " N            7\n",
       "2017          1\n",
       "N             1\n",
       "M             1\n",
       "y             1\n",
       "Name: Fatal (Y/N), dtype: int64"
      ]
     },
     "execution_count": 8,
     "metadata": {},
     "output_type": "execute_result"
    }
   ],
   "source": [
    "data['Fatal (Y/N)'].value_counts()"
   ]
  },
  {
   "cell_type": "code",
   "execution_count": 7,
   "id": "17cf592c",
   "metadata": {},
   "outputs": [
    {
     "data": {
      "text/plain": [
       "count     6300.0\n",
       "unique     249.0\n",
       "top       2015.0\n",
       "freq       143.0\n",
       "Name: Year, dtype: float64"
      ]
     },
     "execution_count": 7,
     "metadata": {},
     "output_type": "execute_result"
    }
   ],
   "source": [
    "data[\"Year\"].astype('object').describe()"
   ]
  },
  {
   "cell_type": "code",
   "execution_count": 3,
   "id": "45e233a2",
   "metadata": {},
   "outputs": [
    {
     "ename": "NameError",
     "evalue": "name 'data' is not defined",
     "output_type": "error",
     "traceback": [
      "\u001b[0;31m---------------------------------------------------------------------------\u001b[0m",
      "\u001b[0;31mNameError\u001b[0m                                 Traceback (most recent call last)",
      "\u001b[0;32m<ipython-input-3-b909d28a505f>\u001b[0m in \u001b[0;36m<module>\u001b[0;34m\u001b[0m\n\u001b[0;32m----> 1\u001b[0;31m \u001b[0mdata\u001b[0m\u001b[0;34m[\u001b[0m\u001b[0;34m\"Species \"\u001b[0m\u001b[0;34m]\u001b[0m\u001b[0;34m.\u001b[0m\u001b[0mastype\u001b[0m\u001b[0;34m(\u001b[0m\u001b[0;34m'object'\u001b[0m\u001b[0;34m)\u001b[0m\u001b[0;34m.\u001b[0m\u001b[0mdescribe\u001b[0m\u001b[0;34m(\u001b[0m\u001b[0;34m)\u001b[0m\u001b[0;34m\u001b[0m\u001b[0;34m\u001b[0m\u001b[0m\n\u001b[0m",
      "\u001b[0;31mNameError\u001b[0m: name 'data' is not defined"
     ]
    }
   ],
   "source": [
    "data[\"Species \"].astype('object').describe()"
   ]
  },
  {
   "cell_type": "code",
   "execution_count": 7,
   "id": "b9c1a4e8",
   "metadata": {},
   "outputs": [
    {
     "data": {
      "text/plain": [
       "count    6300.000000\n",
       "mean     1927.272381\n",
       "std       281.116308\n",
       "min         0.000000\n",
       "25%      1942.000000\n",
       "50%      1977.000000\n",
       "75%      2005.000000\n",
       "max      2018.000000\n",
       "Name: Year, dtype: float64"
      ]
     },
     "execution_count": 7,
     "metadata": {},
     "output_type": "execute_result"
    }
   ],
   "source": [
    "data[\"Year\"].describe()"
   ]
  },
  {
   "cell_type": "code",
   "execution_count": 18,
   "id": "629fa704",
   "metadata": {},
   "outputs": [
    {
     "data": {
      "text/plain": [
       "count        5758\n",
       "unique       1532\n",
       "top       Surfing\n",
       "freq          971\n",
       "Name: Activity, dtype: object"
      ]
     },
     "execution_count": 18,
     "metadata": {},
     "output_type": "execute_result"
    }
   ],
   "source": [
    "data[\"Activity\"].describe()"
   ]
  },
  {
   "cell_type": "code",
   "execution_count": 19,
   "id": "b42868f4",
   "metadata": {},
   "outputs": [
    {
     "data": {
      "text/plain": [
       "count     5763\n",
       "unique       8\n",
       "top          N\n",
       "freq      4293\n",
       "Name: Fatal (Y/N), dtype: object"
      ]
     },
     "execution_count": 19,
     "metadata": {},
     "output_type": "execute_result"
    }
   ],
   "source": [
    "data[\"Fatal (Y/N)\"].astype('object').describe()"
   ]
  },
  {
   "cell_type": "code",
   "execution_count": 20,
   "id": "1b79732d",
   "metadata": {},
   "outputs": [
    {
     "data": {
      "text/plain": [
       "N          4293\n",
       "Y          1388\n",
       "UNKNOWN      71\n",
       " N            7\n",
       "M             1\n",
       "N             1\n",
       "y             1\n",
       "2017          1\n",
       "Name: Fatal (Y/N), dtype: int64"
      ]
     },
     "execution_count": 20,
     "metadata": {},
     "output_type": "execute_result"
    }
   ],
   "source": [
    "data['Fatal (Y/N)'].value_counts()\n"
   ]
  },
  {
   "cell_type": "code",
   "execution_count": 21,
   "id": "18d6ffea",
   "metadata": {},
   "outputs": [
    {
     "data": {
      "text/plain": [
       "0           Paddling\n",
       "1           Standing\n",
       "2            Surfing\n",
       "3            Surfing\n",
       "4        Free diving\n",
       "            ...     \n",
       "25718            NaN\n",
       "25719            NaN\n",
       "25720            NaN\n",
       "25721            NaN\n",
       "25722            NaN\n",
       "Name: Activity, Length: 25723, dtype: object"
      ]
     },
     "execution_count": 21,
     "metadata": {},
     "output_type": "execute_result"
    }
   ],
   "source": [
    "data[\"Activity\"]"
   ]
  },
  {
   "cell_type": "code",
   "execution_count": 22,
   "id": "4ef474c5",
   "metadata": {},
   "outputs": [
    {
     "data": {
      "text/plain": [
       "count           6298\n",
       "unique             8\n",
       "top       Unprovoked\n",
       "freq            4595\n",
       "Name: Type, dtype: object"
      ]
     },
     "execution_count": 22,
     "metadata": {},
     "output_type": "execute_result"
    }
   ],
   "source": [
    "data[\"Type\"].describe()"
   ]
  },
  {
   "cell_type": "code",
   "execution_count": 23,
   "id": "5988bbe6",
   "metadata": {},
   "outputs": [
    {
     "data": {
      "text/plain": [
       "Unprovoked      4595\n",
       "Provoked         574\n",
       "Invalid          547\n",
       "Sea Disaster     239\n",
       "Boating          203\n",
       "Boat             137\n",
       "Questionable       2\n",
       "Boatomg            1\n",
       "Name: Type, dtype: int64"
      ]
     },
     "execution_count": 23,
     "metadata": {},
     "output_type": "execute_result"
    }
   ],
   "source": [
    "data[\"Type\"].value_counts()"
   ]
  },
  {
   "cell_type": "code",
   "execution_count": 24,
   "id": "0d9f248c",
   "metadata": {},
   "outputs": [
    {
     "data": {
      "text/plain": [
       "0           Boating\n",
       "1        Unprovoked\n",
       "2           Invalid\n",
       "3        Unprovoked\n",
       "4          Provoked\n",
       "            ...    \n",
       "25718           NaN\n",
       "25719           NaN\n",
       "25720           NaN\n",
       "25721           NaN\n",
       "25722           NaN\n",
       "Name: Type, Length: 25723, dtype: object"
      ]
     },
     "execution_count": 24,
     "metadata": {},
     "output_type": "execute_result"
    }
   ],
   "source": [
    "data[\"Type\"]"
   ]
  },
  {
   "cell_type": "code",
   "execution_count": 9,
   "id": "a9768798",
   "metadata": {},
   "outputs": [
    {
     "data": {
      "text/plain": [
       "19423"
      ]
     },
     "execution_count": 9,
     "metadata": {},
     "output_type": "execute_result"
    }
   ],
   "source": [
    "data[\"Year\"].isnull().sum(axis = 0)"
   ]
  },
  {
   "cell_type": "code",
   "execution_count": 10,
   "id": "8f6beb57",
   "metadata": {},
   "outputs": [
    {
     "data": {
      "text/plain": [
       "19425"
      ]
     },
     "execution_count": 10,
     "metadata": {},
     "output_type": "execute_result"
    }
   ],
   "source": [
    "data[\"Type\"].isnull().sum(axis = 0)"
   ]
  },
  {
   "cell_type": "code",
   "execution_count": 11,
   "id": "7ceb3630",
   "metadata": {},
   "outputs": [
    {
     "data": {
      "text/plain": [
       "19965"
      ]
     },
     "execution_count": 11,
     "metadata": {},
     "output_type": "execute_result"
    }
   ],
   "source": [
    "data[\"Activity\"].isnull().sum(axis = 0)"
   ]
  },
  {
   "cell_type": "code",
   "execution_count": 12,
   "id": "9eac7318",
   "metadata": {},
   "outputs": [
    {
     "data": {
      "text/plain": [
       "19471"
      ]
     },
     "execution_count": 12,
     "metadata": {},
     "output_type": "execute_result"
    }
   ],
   "source": [
    "data[\"Country\"].isnull().sum(axis = 0)"
   ]
  },
  {
   "cell_type": "code",
   "execution_count": 13,
   "id": "fa48b621",
   "metadata": {},
   "outputs": [
    {
     "data": {
      "text/plain": [
       "19421"
      ]
     },
     "execution_count": 13,
     "metadata": {},
     "output_type": "execute_result"
    }
   ],
   "source": [
    "data[\"Date\"].isnull().sum(axis = 0)"
   ]
  },
  {
   "cell_type": "code",
   "execution_count": 14,
   "id": "f055271e",
   "metadata": {},
   "outputs": [
    {
     "data": {
      "text/plain": [
       "19421"
      ]
     },
     "execution_count": 14,
     "metadata": {},
     "output_type": "execute_result"
    }
   ],
   "source": [
    "data[\"Case Number.1\"].isnull().sum(axis = 0)"
   ]
  },
  {
   "cell_type": "code",
   "execution_count": 15,
   "id": "b06a0cf3",
   "metadata": {},
   "outputs": [
    {
     "data": {
      "text/plain": [
       "19421"
      ]
     },
     "execution_count": 15,
     "metadata": {},
     "output_type": "execute_result"
    }
   ],
   "source": [
    "data[\"Case Number.2\"].isnull().sum(axis = 0)"
   ]
  },
  {
   "cell_type": "code",
   "execution_count": 32,
   "id": "7ab8dff4",
   "metadata": {},
   "outputs": [
    {
     "data": {
      "text/plain": [
       "19631"
      ]
     },
     "execution_count": 32,
     "metadata": {},
     "output_type": "execute_result"
    }
   ],
   "source": [
    "data[\"Name\"].isnull().sum(axis = 0)"
   ]
  },
  {
   "cell_type": "code",
   "execution_count": 6,
   "id": "87efd248",
   "metadata": {},
   "outputs": [
    {
     "data": {
      "text/plain": [
       "19986"
      ]
     },
     "execution_count": 6,
     "metadata": {},
     "output_type": "execute_result"
    }
   ],
   "source": [
    "data[\"Sex\"].isnull().sum(axis = 0)"
   ]
  },
  {
   "cell_type": "code",
   "execution_count": 8,
   "id": "79631b36",
   "metadata": {},
   "outputs": [
    {
     "data": {
      "text/plain": [
       "19960"
      ]
     },
     "execution_count": 8,
     "metadata": {},
     "output_type": "execute_result"
    }
   ],
   "source": [
    "data[\"Fatal (Y/N)\"].isnull().sum(axis = 0)"
   ]
  },
  {
   "cell_type": "code",
   "execution_count": 35,
   "id": "87ec33be",
   "metadata": {},
   "outputs": [
    {
     "data": {
      "text/plain": [
       "N          4293\n",
       "Y          1388\n",
       "UNKNOWN      71\n",
       " N            7\n",
       "M             1\n",
       "N             1\n",
       "y             1\n",
       "2017          1\n",
       "Name: Fatal (Y/N), dtype: int64"
      ]
     },
     "execution_count": 35,
     "metadata": {},
     "output_type": "execute_result"
    }
   ],
   "source": [
    "data['Fatal (Y/N)'].value_counts()"
   ]
  },
  {
   "cell_type": "code",
   "execution_count": 9,
   "id": "0fec5ff9",
   "metadata": {},
   "outputs": [
    {
     "data": {
      "text/plain": [
       "USA                      2229\n",
       "AUSTRALIA                1338\n",
       "SOUTH AFRICA              579\n",
       "PAPUA NEW GUINEA          134\n",
       "NEW ZEALAND               128\n",
       "                         ... \n",
       "NORTH ATLANTIC OCEAN        1\n",
       "MID-PACIFC OCEAN            1\n",
       "TASMAN SEA                  1\n",
       "COOK ISLANDS                1\n",
       "Seychelles                  1\n",
       "Name: Country, Length: 212, dtype: int64"
      ]
     },
     "execution_count": 9,
     "metadata": {},
     "output_type": "execute_result"
    }
   ],
   "source": [
    "data['Country'].value_counts()"
   ]
  },
  {
   "cell_type": "code",
   "execution_count": 37,
   "id": "653448cd",
   "metadata": {},
   "outputs": [
    {
     "data": {
      "text/plain": [
       "count        5847\n",
       "unique        825\n",
       "top       Florida\n",
       "freq         1037\n",
       "Name: Area, dtype: object"
      ]
     },
     "execution_count": 37,
     "metadata": {},
     "output_type": "execute_result"
    }
   ],
   "source": [
    "data['Area'].describe()"
   ]
  },
  {
   "cell_type": "code",
   "execution_count": 38,
   "id": "b75aff13",
   "metadata": {},
   "outputs": [
    {
     "data": {
      "text/plain": [
       "19876"
      ]
     },
     "execution_count": 38,
     "metadata": {},
     "output_type": "execute_result"
    }
   ],
   "source": [
    "data[\"Area\"].isnull().sum(axis = 0)"
   ]
  },
  {
   "cell_type": "code",
   "execution_count": 39,
   "id": "bc6cced6",
   "metadata": {},
   "outputs": [
    {
     "data": {
      "text/plain": [
       "19961"
      ]
     },
     "execution_count": 39,
     "metadata": {},
     "output_type": "execute_result"
    }
   ],
   "source": [
    "data[\"Location\"].isnull().sum(axis = 0)"
   ]
  },
  {
   "cell_type": "code",
   "execution_count": 40,
   "id": "0aad96a4",
   "metadata": {},
   "outputs": [
    {
     "data": {
      "text/plain": [
       "19421"
      ]
     },
     "execution_count": 40,
     "metadata": {},
     "output_type": "execute_result"
    }
   ],
   "source": [
    "data[\"pdf\"].isnull().sum(axis = 0)"
   ]
  },
  {
   "cell_type": "code",
   "execution_count": 41,
   "id": "82e2a64f",
   "metadata": {},
   "outputs": [
    {
     "data": {
      "text/plain": [
       "19421"
      ]
     },
     "execution_count": 41,
     "metadata": {},
     "output_type": "execute_result"
    }
   ],
   "source": [
    "data[\"href\"].isnull().sum(axis = 0)"
   ]
  },
  {
   "cell_type": "code",
   "execution_count": 42,
   "id": "c0a5bf39",
   "metadata": {},
   "outputs": [
    {
     "data": {
      "text/plain": [
       "19422"
      ]
     },
     "execution_count": 42,
     "metadata": {},
     "output_type": "execute_result"
    }
   ],
   "source": [
    "data[\"href formula\"].isnull().sum(axis = 0)"
   ]
  },
  {
   "cell_type": "code",
   "execution_count": 43,
   "id": "06fa77fa",
   "metadata": {},
   "outputs": [
    {
     "data": {
      "text/plain": [
       "22252"
      ]
     },
     "execution_count": 43,
     "metadata": {},
     "output_type": "execute_result"
    }
   ],
   "source": [
    "data[\"Age\"].isnull().sum(axis = 0)"
   ]
  },
  {
   "cell_type": "code",
   "execution_count": 44,
   "id": "cf1b8bd7",
   "metadata": {},
   "outputs": [
    {
     "data": {
      "text/plain": [
       "25722"
      ]
     },
     "execution_count": 44,
     "metadata": {},
     "output_type": "execute_result"
    }
   ],
   "source": [
    "data[\"Unnamed: 22\"].isnull().sum(axis = 0)"
   ]
  },
  {
   "cell_type": "code",
   "execution_count": 45,
   "id": "4b64e4e6",
   "metadata": {},
   "outputs": [
    {
     "data": {
      "text/plain": [
       "25721"
      ]
     },
     "execution_count": 45,
     "metadata": {},
     "output_type": "execute_result"
    }
   ],
   "source": [
    "data[\"Unnamed: 23\"].isnull().sum(axis = 0)"
   ]
  },
  {
   "cell_type": "markdown",
   "id": "c4ba7a87",
   "metadata": {},
   "source": [
    "#### Hipótesis que queremos comprobar"
   ]
  },
  {
   "cell_type": "raw",
   "id": "54e9d117",
   "metadata": {},
   "source": [
    "1.Comprobar que la gente joven es aquella que provoca los ataques, y la gente mayor los invalidos. "
   ]
  },
  {
   "cell_type": "raw",
   "id": "bb97a50c",
   "metadata": {},
   "source": [
    "2.Comprobar que si las muertes que son fatales son aquellas que se han producido por la noche al no poder habido una mayor asistencia. "
   ]
  },
  {
   "cell_type": "markdown",
   "id": "a8631945",
   "metadata": {},
   "source": [
    "#### Columnas que no necesitamos"
   ]
  },
  {
   "cell_type": "code",
   "execution_count": 5,
   "id": "b25d6ff3",
   "metadata": {},
   "outputs": [],
   "source": [
    "data.drop(['Unnamed: 22', 'Unnamed: 23'], axis=1, inplace=True)"
   ]
  },
  {
   "cell_type": "code",
   "execution_count": 17,
   "id": "ef89326e",
   "metadata": {},
   "outputs": [],
   "source": [
    "#Como podemos ver, el resto de las columnas tienen un valor elevado de valores nulos. Por lo que a pesor de que estos rondan el 75% de los datos de cada columnas, elimanr todas las columnas no tendría sentido.\n"
   ]
  },
  {
   "cell_type": "code",
   "execution_count": 111,
   "id": "d5652401",
   "metadata": {},
   "outputs": [],
   "source": [
    "# Como solo queremos centrarnos en estas hipotesis procederemos a eliminar las columnas que no sean necesarias.  Consideramos que lacolumna del tipo de herida es más díficl que manejar que la de si la muerte ha sido fatal o no. Procederemos a eliminarla"
   ]
  },
  {
   "cell_type": "code",
   "execution_count": 6,
   "id": "0ea09df5",
   "metadata": {},
   "outputs": [],
   "source": [
    "  data.drop(['Activity','Area', 'Injury', 'Country' ], axis=1, inplace=True)"
   ]
  },
  {
   "cell_type": "code",
   "execution_count": 155,
   "id": "8f26dc84",
   "metadata": {},
   "outputs": [],
   "source": [
    "# Procederemos a eliminar las columnas relacionadas con la fuente de donde se ha obtenido la informacion, ya que consideramos la fiabilidad de ellas por lo que no deben a afectar a un mayor o menor numero de casos. "
   ]
  },
  {
   "cell_type": "code",
   "execution_count": 7,
   "id": "4914a99e",
   "metadata": {},
   "outputs": [],
   "source": [
    " data.drop(['pdf', 'href formula', 'href', 'Case Number.1', 'Case Number.2', 'original order', 'Investigator or Source', 'Location',  'Name', 'Case Number', 'Species' ], axis=1, inplace=True)"
   ]
  },
  {
   "cell_type": "code",
   "execution_count": 181,
   "id": "a5ac2517",
   "metadata": {},
   "outputs": [],
   "source": [
    "# Por último procedemos a eliminar el case number al ser repetitiva respectivo la columna fecha"
   ]
  },
  {
   "cell_type": "markdown",
   "id": "3c39cb4b",
   "metadata": {},
   "source": [
    "#### Valores nulos \n"
   ]
  },
  {
   "cell_type": "code",
   "execution_count": 5,
   "id": "45f038d2",
   "metadata": {},
   "outputs": [],
   "source": [
    "#data.Year = data.Year.fillna(0).astype(\"int\")"
   ]
  },
  {
   "cell_type": "code",
   "execution_count": 8,
   "id": "cd7d297d",
   "metadata": {},
   "outputs": [],
   "source": [
    "data2 = data.dropna()\n"
   ]
  },
  {
   "cell_type": "code",
   "execution_count": 9,
   "id": "bfc657df",
   "metadata": {},
   "outputs": [
    {
     "data": {
      "text/html": [
       "<div>\n",
       "<style scoped>\n",
       "    .dataframe tbody tr th:only-of-type {\n",
       "        vertical-align: middle;\n",
       "    }\n",
       "\n",
       "    .dataframe tbody tr th {\n",
       "        vertical-align: top;\n",
       "    }\n",
       "\n",
       "    .dataframe thead th {\n",
       "        text-align: right;\n",
       "    }\n",
       "</style>\n",
       "<table border=\"1\" class=\"dataframe\">\n",
       "  <thead>\n",
       "    <tr style=\"text-align: right;\">\n",
       "      <th></th>\n",
       "      <th>Date</th>\n",
       "      <th>Year</th>\n",
       "      <th>Type</th>\n",
       "      <th>Sex</th>\n",
       "      <th>Age</th>\n",
       "      <th>Fatal (Y/N)</th>\n",
       "      <th>Time</th>\n",
       "    </tr>\n",
       "  </thead>\n",
       "  <tbody>\n",
       "    <tr>\n",
       "      <th>0</th>\n",
       "      <td>25-Jun-2018</td>\n",
       "      <td>2018.0</td>\n",
       "      <td>Boating</td>\n",
       "      <td>F</td>\n",
       "      <td>57</td>\n",
       "      <td>N</td>\n",
       "      <td>18h00</td>\n",
       "    </tr>\n",
       "    <tr>\n",
       "      <th>1</th>\n",
       "      <td>18-Jun-2018</td>\n",
       "      <td>2018.0</td>\n",
       "      <td>Unprovoked</td>\n",
       "      <td>F</td>\n",
       "      <td>11</td>\n",
       "      <td>N</td>\n",
       "      <td>14h00  -15h00</td>\n",
       "    </tr>\n",
       "    <tr>\n",
       "      <th>2</th>\n",
       "      <td>09-Jun-2018</td>\n",
       "      <td>2018.0</td>\n",
       "      <td>Invalid</td>\n",
       "      <td>M</td>\n",
       "      <td>48</td>\n",
       "      <td>N</td>\n",
       "      <td>07h45</td>\n",
       "    </tr>\n",
       "    <tr>\n",
       "      <th>6</th>\n",
       "      <td>03-Jun-2018</td>\n",
       "      <td>2018.0</td>\n",
       "      <td>Unprovoked</td>\n",
       "      <td>M</td>\n",
       "      <td>18</td>\n",
       "      <td>Y</td>\n",
       "      <td>Late afternoon</td>\n",
       "    </tr>\n",
       "    <tr>\n",
       "      <th>8</th>\n",
       "      <td>26-May-2018</td>\n",
       "      <td>2018.0</td>\n",
       "      <td>Unprovoked</td>\n",
       "      <td>M</td>\n",
       "      <td>15</td>\n",
       "      <td>N</td>\n",
       "      <td>17h00</td>\n",
       "    </tr>\n",
       "    <tr>\n",
       "      <th>...</th>\n",
       "      <td>...</td>\n",
       "      <td>...</td>\n",
       "      <td>...</td>\n",
       "      <td>...</td>\n",
       "      <td>...</td>\n",
       "      <td>...</td>\n",
       "      <td>...</td>\n",
       "    </tr>\n",
       "    <tr>\n",
       "      <th>6200</th>\n",
       "      <td>Before 2009</td>\n",
       "      <td>0.0</td>\n",
       "      <td>Unprovoked</td>\n",
       "      <td>F</td>\n",
       "      <td>21</td>\n",
       "      <td>N</td>\n",
       "      <td>18h00</td>\n",
       "    </tr>\n",
       "    <tr>\n",
       "      <th>6241</th>\n",
       "      <td>1960s</td>\n",
       "      <td>0.0</td>\n",
       "      <td>Unprovoked</td>\n",
       "      <td>M</td>\n",
       "      <td>25</td>\n",
       "      <td>N</td>\n",
       "      <td>Afternoon</td>\n",
       "    </tr>\n",
       "    <tr>\n",
       "      <th>6242</th>\n",
       "      <td>1960s</td>\n",
       "      <td>0.0</td>\n",
       "      <td>Unprovoked</td>\n",
       "      <td>M</td>\n",
       "      <td>6</td>\n",
       "      <td>N</td>\n",
       "      <td>Afternoon</td>\n",
       "    </tr>\n",
       "    <tr>\n",
       "      <th>6243</th>\n",
       "      <td>1960s</td>\n",
       "      <td>0.0</td>\n",
       "      <td>Unprovoked</td>\n",
       "      <td>M</td>\n",
       "      <td>16</td>\n",
       "      <td>N</td>\n",
       "      <td>Afternoon</td>\n",
       "    </tr>\n",
       "    <tr>\n",
       "      <th>6265</th>\n",
       "      <td>1941-1942</td>\n",
       "      <td>0.0</td>\n",
       "      <td>Unprovoked</td>\n",
       "      <td>M</td>\n",
       "      <td>13 or 14</td>\n",
       "      <td>Y</td>\n",
       "      <td>Afternoon</td>\n",
       "    </tr>\n",
       "  </tbody>\n",
       "</table>\n",
       "<p>2246 rows × 7 columns</p>\n",
       "</div>"
      ],
      "text/plain": [
       "             Date    Year        Type Sex       Age Fatal (Y/N)  \\\n",
       "0     25-Jun-2018  2018.0     Boating   F        57           N   \n",
       "1     18-Jun-2018  2018.0  Unprovoked   F        11           N   \n",
       "2     09-Jun-2018  2018.0     Invalid   M        48           N   \n",
       "6     03-Jun-2018  2018.0  Unprovoked   M        18           Y   \n",
       "8     26-May-2018  2018.0  Unprovoked   M        15           N   \n",
       "...           ...     ...         ...  ..       ...         ...   \n",
       "6200  Before 2009     0.0  Unprovoked   F        21           N   \n",
       "6241        1960s     0.0  Unprovoked   M        25           N   \n",
       "6242        1960s     0.0  Unprovoked   M         6           N   \n",
       "6243        1960s     0.0  Unprovoked   M        16           N   \n",
       "6265    1941-1942     0.0  Unprovoked   M  13 or 14           Y   \n",
       "\n",
       "                Time  \n",
       "0              18h00  \n",
       "1      14h00  -15h00  \n",
       "2              07h45  \n",
       "6     Late afternoon  \n",
       "8              17h00  \n",
       "...              ...  \n",
       "6200           18h00  \n",
       "6241       Afternoon  \n",
       "6242       Afternoon  \n",
       "6243       Afternoon  \n",
       "6265       Afternoon  \n",
       "\n",
       "[2246 rows x 7 columns]"
      ]
     },
     "execution_count": 9,
     "metadata": {},
     "output_type": "execute_result"
    }
   ],
   "source": [
    "data2 "
   ]
  },
  {
   "cell_type": "markdown",
   "id": "515f284b",
   "metadata": {},
   "source": [
    "#### Hipótesis 1: Comprobar que si las muertes que son fatales son aquellas que se han producido por la noche al no poder habido una mayor asistencia.  "
   ]
  },
  {
   "cell_type": "code",
   "execution_count": 27,
   "id": "8f84851b",
   "metadata": {},
   "outputs": [],
   "source": [
    "# Procedemos a crear una nueva columna para el tiempo, llamada time 2, en la que todos los valores ser afternoon, morning y night."
   ]
  },
  {
   "cell_type": "code",
   "execution_count": null,
   "id": "e3a5c465",
   "metadata": {},
   "outputs": [],
   "source": [
    "# Criterio:\n",
    "    # Night = 22:00 a 6:00\n",
    "    # Afternoon = 14:00 a 22:00\n",
    "    # Morning = 6:00 a 14:00"
   ]
  },
  {
   "cell_type": "code",
   "execution_count": 9,
   "id": "838dfb04",
   "metadata": {},
   "outputs": [
    {
     "data": {
      "text/plain": [
       "Afternoon    122\n",
       "11h00         95\n",
       "12h00         87\n",
       "16h00         84\n",
       "15h00         83\n",
       "            ... \n",
       "17h46          1\n",
       "10h07          1\n",
       "18h10          1\n",
       "07h56          1\n",
       "08h35          1\n",
       "Name: Time, Length: 308, dtype: int64"
      ]
     },
     "execution_count": 9,
     "metadata": {},
     "output_type": "execute_result"
    }
   ],
   "source": [
    "data2[\"Time\"].value_counts()"
   ]
  },
  {
   "cell_type": "code",
   "execution_count": 12,
   "id": "ca78e975",
   "metadata": {},
   "outputs": [
    {
     "data": {
      "text/plain": [
       "count          2246\n",
       "unique          308\n",
       "top       Afternoon\n",
       "freq            122\n",
       "Name: Time, dtype: object"
      ]
     },
     "execution_count": 12,
     "metadata": {},
     "output_type": "execute_result"
    }
   ],
   "source": [
    "data2[\"Time\"].describe()"
   ]
  },
  {
   "cell_type": "markdown",
   "id": "00926811",
   "metadata": {},
   "source": [
    "INTENTO CON REGEX"
   ]
  },
  {
   "cell_type": "code",
   "execution_count": 36,
   "id": "2524c119",
   "metadata": {},
   "outputs": [],
   "source": [
    "# Puede que lo necesite\n",
    "\n",
    "hora1 = [\"06\", \"07\", \"08\", \"09\", \"10\", \"11\", \"12\", \"13\"]\n",
    "hora2 =  [\"15\", \"16\", \"17\", \"18\", \"19\", \"20\", \"21\", \"22\"]\n",
    "hora3 = [ \"23\", \"24\", \"00\", \"01\", \"02\", \"03\", \"04\", \"05\"]"
   ]
  },
  {
   "cell_type": "code",
   "execution_count": 14,
   "id": "9db0f85a",
   "metadata": {},
   "outputs": [
    {
     "data": {
      "text/plain": [
       "Afternoon                122\n",
       "11h00                     95\n",
       "12h00                     87\n",
       "16h00                     84\n",
       "15h00                     83\n",
       "                        ... \n",
       "08h55                      1\n",
       "18h15-18h30                1\n",
       "10h07                      1\n",
       "Between 06h00 & 07h20      1\n",
       "Dark                       1\n",
       "Name: Time, Length: 308, dtype: int64"
      ]
     },
     "execution_count": 14,
     "metadata": {},
     "output_type": "execute_result"
    }
   ],
   "source": [
    "data2.Time.value_counts()"
   ]
  },
  {
   "cell_type": "code",
   "execution_count": 15,
   "id": "913a0a27",
   "metadata": {},
   "outputs": [],
   "source": [
    "#data2[\"Time\"].str.replace(f'18h.*', 'Afternoon', regex = True)\n",
    "#data2[\"Time\"].str.replace(f'[0-6]h.*', 'Afternoon', regex = True)\n",
    "#data2[\"Time\"].str.replace(f'{hora3}h.*', 'Night', regex = True) \n",
    "\n",
    "    "
   ]
  },
  {
   "cell_type": "markdown",
   "id": "b86f800b",
   "metadata": {},
   "source": [
    "INTENTO CON DICCIONARIO DE CAMBIAR VARIABLES \n"
   ]
  },
  {
   "cell_type": "code",
   "execution_count": 10,
   "id": "fbbf1c6f",
   "metadata": {},
   "outputs": [],
   "source": [
    "horarios = {\"Morning\":[\"06h\", \"07h\", \"08h\", \"09h\", \"10h\", \"11h\", \"12h\", \"13h\"], \n",
    "           \"Afternoon\": [\"15h\", \"16h\", \"17h\", \"18h\", \"19h\", \"20h\", \"21h\", \"22h\"],\n",
    "           \"Night\": [\"23h\", \"24h\", \"00h\", \"01h\", \"02h\", \"03h\", \"04h\", \"05h\"]}"
   ]
  },
  {
   "cell_type": "code",
   "execution_count": 11,
   "id": "a7c66ec9",
   "metadata": {},
   "outputs": [],
   "source": [
    "import re"
   ]
  },
  {
   "cell_type": "code",
   "execution_count": 13,
   "id": "814b96ca",
   "metadata": {},
   "outputs": [],
   "source": [
    "def sustituye(x):\n",
    "    reg = re.search(r\"\\d{2}h*\", x)\n",
    "    if reg:\n",
    "        for k,v in horarios.items():\n",
    "            for elemento in v:\n",
    "                if reg.group() == elemento :\n",
    "                    return k\n",
    "        else:\n",
    "            return x\n",
    "        "
   ]
  },
  {
   "cell_type": "code",
   "execution_count": 14,
   "id": "1997cf49",
   "metadata": {},
   "outputs": [
    {
     "name": "stderr",
     "output_type": "stream",
     "text": [
      "<ipython-input-14-0142963ebf9c>:1: SettingWithCopyWarning: \n",
      "A value is trying to be set on a copy of a slice from a DataFrame.\n",
      "Try using .loc[row_indexer,col_indexer] = value instead\n",
      "\n",
      "See the caveats in the documentation: https://pandas.pydata.org/pandas-docs/stable/user_guide/indexing.html#returning-a-view-versus-a-copy\n",
      "  data2[\"Time2\"] = data2.Time.apply(sustituye)\n"
     ]
    }
   ],
   "source": [
    "data2[\"Time2\"] = data2.Time.apply(sustituye)"
   ]
  },
  {
   "cell_type": "code",
   "execution_count": 15,
   "id": "14d9eb5c",
   "metadata": {},
   "outputs": [
    {
     "data": {
      "text/plain": [
       "Morning          947\n",
       "Afternoon        723\n",
       "14h00             75\n",
       "14h30             64\n",
       "Night             20\n",
       "14h45             15\n",
       "14h10              8\n",
       "14h15              5\n",
       "14h20              5\n",
       "14h50              4\n",
       "14h40              4\n",
       "14h35              3\n",
       "14h25              2\n",
       "14h16              2\n",
       "14h55              2\n",
       "1600               2\n",
       "06j00              1\n",
       "14h37              1\n",
       "0500               1\n",
       "9h00               1\n",
       "8:04 pm            1\n",
       "14h21              1\n",
       "1500               1\n",
       "14h34              1\n",
       "15j45              1\n",
       "14h00  -15h00      1\n",
       "14h30 / 15h30      1\n",
       "14h00 - 15h00      1\n",
       "0830               1\n",
       " 14h00             1\n",
       "1300               1\n",
       "Name: Time2, dtype: int64"
      ]
     },
     "execution_count": 15,
     "metadata": {},
     "output_type": "execute_result"
    }
   ],
   "source": [
    "data2.Time2.value_counts()"
   ]
  },
  {
   "cell_type": "markdown",
   "id": "10ad0919",
   "metadata": {},
   "source": [
    "Trampas\n"
   ]
  },
  {
   "cell_type": "code",
   "execution_count": 15,
   "id": "029c4c87",
   "metadata": {},
   "outputs": [
    {
     "name": "stderr",
     "output_type": "stream",
     "text": [
      "<ipython-input-15-4851bb1597a3>:1: SettingWithCopyWarning: \n",
      "A value is trying to be set on a copy of a slice from a DataFrame.\n",
      "Try using .loc[row_indexer,col_indexer] = value instead\n",
      "\n",
      "See the caveats in the documentation: https://pandas.pydata.org/pandas-docs/stable/user_guide/indexing.html#returning-a-view-versus-a-copy\n",
      "  data2[\"Time3\"] = data2.Time2\n"
     ]
    }
   ],
   "source": [
    "data2[\"Time3\"] = data2.Time2"
   ]
  },
  {
   "cell_type": "code",
   "execution_count": 16,
   "id": "e4680ae0",
   "metadata": {},
   "outputs": [
    {
     "ename": "NameError",
     "evalue": "name 'argumentotime' is not defined",
     "output_type": "error",
     "traceback": [
      "\u001b[0;31m---------------------------------------------------------------------------\u001b[0m",
      "\u001b[0;31mNameError\u001b[0m                                 Traceback (most recent call last)",
      "\u001b[0;32m<ipython-input-16-cd4699d372e8>\u001b[0m in \u001b[0;36m<module>\u001b[0;34m\u001b[0m\n\u001b[0;32m----> 1\u001b[0;31m \u001b[0mdata2\u001b[0m\u001b[0;34m[\u001b[0m\u001b[0;34m\"Time3\"\u001b[0m\u001b[0;34m]\u001b[0m \u001b[0;34m=\u001b[0m \u001b[0mdata2\u001b[0m\u001b[0;34m.\u001b[0m\u001b[0mTime3\u001b[0m\u001b[0;34m.\u001b[0m\u001b[0mapply\u001b[0m\u001b[0;34m(\u001b[0m\u001b[0margumentotime\u001b[0m\u001b[0;34m)\u001b[0m\u001b[0;34m\u001b[0m\u001b[0;34m\u001b[0m\u001b[0m\n\u001b[0m",
      "\u001b[0;31mNameError\u001b[0m: name 'argumentotime' is not defined"
     ]
    }
   ],
   "source": [
    "#No funciona\n",
    "data2[\"Time3\"] = data2.Time3.apply(argumentotime)"
   ]
  },
  {
   "cell_type": "code",
   "execution_count": 17,
   "id": "0aba92bb",
   "metadata": {},
   "outputs": [],
   "source": [
    "def argumentotime(x):\n",
    "        if data2[\"Time2\"] == \"14h00\":\n",
    "            return Afternoon \n",
    "        if data2[\"Time2\"] == \"14h300\":\n",
    "            return Afternoon \n",
    "        if data2[\"Time2\"] == \"14h45\":\n",
    "            return Afternoon \n",
    "        if data2[\"Time2\"] == \"14h10\":\n",
    "            return Afternoon \n",
    "        if data2[\"Time2\"] == \"14h10\":\n",
    "            return Afternoon \n",
    "        \n",
    "    "
   ]
  },
  {
   "cell_type": "markdown",
   "id": "2d651f5b",
   "metadata": {},
   "source": [
    "Las trampas no me han salido voy a continuar "
   ]
  },
  {
   "cell_type": "code",
   "execution_count": 16,
   "id": "cfbccb37",
   "metadata": {},
   "outputs": [
    {
     "name": "stderr",
     "output_type": "stream",
     "text": [
      "<ipython-input-16-edee0f50d1b9>:1: SettingWithCopyWarning: \n",
      "A value is trying to be set on a copy of a slice from a DataFrame\n",
      "\n",
      "See the caveats in the documentation: https://pandas.pydata.org/pandas-docs/stable/user_guide/indexing.html#returning-a-view-versus-a-copy\n",
      "  data2.dropna(subset=['Time2'], inplace=True)\n"
     ]
    }
   ],
   "source": [
    "data2.dropna(subset=['Time2'], inplace=True)"
   ]
  },
  {
   "cell_type": "code",
   "execution_count": 17,
   "id": "218ed470",
   "metadata": {},
   "outputs": [
    {
     "name": "stderr",
     "output_type": "stream",
     "text": [
      "/usr/local/Caskroom/miniconda/base/lib/python3.8/site-packages/pandas/core/frame.py:4308: SettingWithCopyWarning: \n",
      "A value is trying to be set on a copy of a slice from a DataFrame\n",
      "\n",
      "See the caveats in the documentation: https://pandas.pydata.org/pandas-docs/stable/user_guide/indexing.html#returning-a-view-versus-a-copy\n",
      "  return super().drop(\n"
     ]
    }
   ],
   "source": [
    "data2.drop(data2.loc[data2['Time']==\"14h00\"].index, inplace=True)"
   ]
  },
  {
   "cell_type": "code",
   "execution_count": 18,
   "id": "8ba7bb28",
   "metadata": {},
   "outputs": [
    {
     "data": {
      "text/html": [
       "<div>\n",
       "<style scoped>\n",
       "    .dataframe tbody tr th:only-of-type {\n",
       "        vertical-align: middle;\n",
       "    }\n",
       "\n",
       "    .dataframe tbody tr th {\n",
       "        vertical-align: top;\n",
       "    }\n",
       "\n",
       "    .dataframe thead th {\n",
       "        text-align: right;\n",
       "    }\n",
       "</style>\n",
       "<table border=\"1\" class=\"dataframe\">\n",
       "  <thead>\n",
       "    <tr style=\"text-align: right;\">\n",
       "      <th></th>\n",
       "      <th>Date</th>\n",
       "      <th>Year</th>\n",
       "      <th>Type</th>\n",
       "      <th>Sex</th>\n",
       "      <th>Age</th>\n",
       "      <th>Fatal (Y/N)</th>\n",
       "      <th>Time</th>\n",
       "      <th>Time2</th>\n",
       "    </tr>\n",
       "  </thead>\n",
       "  <tbody>\n",
       "    <tr>\n",
       "      <th>0</th>\n",
       "      <td>25-Jun-2018</td>\n",
       "      <td>2018.0</td>\n",
       "      <td>Boating</td>\n",
       "      <td>F</td>\n",
       "      <td>57</td>\n",
       "      <td>N</td>\n",
       "      <td>18h00</td>\n",
       "      <td>Afternoon</td>\n",
       "    </tr>\n",
       "    <tr>\n",
       "      <th>1</th>\n",
       "      <td>18-Jun-2018</td>\n",
       "      <td>2018.0</td>\n",
       "      <td>Unprovoked</td>\n",
       "      <td>F</td>\n",
       "      <td>11</td>\n",
       "      <td>N</td>\n",
       "      <td>14h00  -15h00</td>\n",
       "      <td>14h00  -15h00</td>\n",
       "    </tr>\n",
       "    <tr>\n",
       "      <th>2</th>\n",
       "      <td>09-Jun-2018</td>\n",
       "      <td>2018.0</td>\n",
       "      <td>Invalid</td>\n",
       "      <td>M</td>\n",
       "      <td>48</td>\n",
       "      <td>N</td>\n",
       "      <td>07h45</td>\n",
       "      <td>Morning</td>\n",
       "    </tr>\n",
       "    <tr>\n",
       "      <th>8</th>\n",
       "      <td>26-May-2018</td>\n",
       "      <td>2018.0</td>\n",
       "      <td>Unprovoked</td>\n",
       "      <td>M</td>\n",
       "      <td>15</td>\n",
       "      <td>N</td>\n",
       "      <td>17h00</td>\n",
       "      <td>Afternoon</td>\n",
       "    </tr>\n",
       "    <tr>\n",
       "      <th>12</th>\n",
       "      <td>13-May-2018</td>\n",
       "      <td>2018.0</td>\n",
       "      <td>Unprovoked</td>\n",
       "      <td>M</td>\n",
       "      <td>10</td>\n",
       "      <td>N</td>\n",
       "      <td>15h00</td>\n",
       "      <td>Afternoon</td>\n",
       "    </tr>\n",
       "    <tr>\n",
       "      <th>...</th>\n",
       "      <td>...</td>\n",
       "      <td>...</td>\n",
       "      <td>...</td>\n",
       "      <td>...</td>\n",
       "      <td>...</td>\n",
       "      <td>...</td>\n",
       "      <td>...</td>\n",
       "      <td>...</td>\n",
       "    </tr>\n",
       "    <tr>\n",
       "      <th>5922</th>\n",
       "      <td>13-May-1868</td>\n",
       "      <td>1868.0</td>\n",
       "      <td>Unprovoked</td>\n",
       "      <td>M</td>\n",
       "      <td>35</td>\n",
       "      <td>Y</td>\n",
       "      <td>Before 10h30</td>\n",
       "      <td>Morning</td>\n",
       "    </tr>\n",
       "    <tr>\n",
       "      <th>5934</th>\n",
       "      <td>02-Sep-1865</td>\n",
       "      <td>1865.0</td>\n",
       "      <td>Unprovoked</td>\n",
       "      <td>M</td>\n",
       "      <td>17</td>\n",
       "      <td>N</td>\n",
       "      <td>09h00</td>\n",
       "      <td>Morning</td>\n",
       "    </tr>\n",
       "    <tr>\n",
       "      <th>5963</th>\n",
       "      <td>22-Dec-1862</td>\n",
       "      <td>1862.0</td>\n",
       "      <td>Unprovoked</td>\n",
       "      <td>M</td>\n",
       "      <td>28</td>\n",
       "      <td>N</td>\n",
       "      <td>06h00 -- 07h00</td>\n",
       "      <td>Morning</td>\n",
       "    </tr>\n",
       "    <tr>\n",
       "      <th>5991</th>\n",
       "      <td>14-Mar-1858</td>\n",
       "      <td>1858.0</td>\n",
       "      <td>Unprovoked</td>\n",
       "      <td>M</td>\n",
       "      <td>22</td>\n",
       "      <td>Y</td>\n",
       "      <td>15h00</td>\n",
       "      <td>Afternoon</td>\n",
       "    </tr>\n",
       "    <tr>\n",
       "      <th>6200</th>\n",
       "      <td>Before 2009</td>\n",
       "      <td>0.0</td>\n",
       "      <td>Unprovoked</td>\n",
       "      <td>F</td>\n",
       "      <td>21</td>\n",
       "      <td>N</td>\n",
       "      <td>18h00</td>\n",
       "      <td>Afternoon</td>\n",
       "    </tr>\n",
       "  </tbody>\n",
       "</table>\n",
       "<p>1821 rows × 8 columns</p>\n",
       "</div>"
      ],
      "text/plain": [
       "             Date    Year        Type Sex Age Fatal (Y/N)            Time  \\\n",
       "0     25-Jun-2018  2018.0     Boating   F  57           N           18h00   \n",
       "1     18-Jun-2018  2018.0  Unprovoked   F  11           N   14h00  -15h00   \n",
       "2     09-Jun-2018  2018.0     Invalid   M  48           N           07h45   \n",
       "8     26-May-2018  2018.0  Unprovoked   M  15           N           17h00   \n",
       "12    13-May-2018  2018.0  Unprovoked   M  10           N           15h00   \n",
       "...           ...     ...         ...  ..  ..         ...             ...   \n",
       "5922  13-May-1868  1868.0  Unprovoked   M  35           Y    Before 10h30   \n",
       "5934  02-Sep-1865  1865.0  Unprovoked   M  17           N           09h00   \n",
       "5963  22-Dec-1862  1862.0  Unprovoked   M  28           N  06h00 -- 07h00   \n",
       "5991  14-Mar-1858  1858.0  Unprovoked   M  22           Y           15h00   \n",
       "6200  Before 2009     0.0  Unprovoked   F  21           N           18h00   \n",
       "\n",
       "              Time2  \n",
       "0         Afternoon  \n",
       "1     14h00  -15h00  \n",
       "2           Morning  \n",
       "8         Afternoon  \n",
       "12        Afternoon  \n",
       "...             ...  \n",
       "5922        Morning  \n",
       "5934        Morning  \n",
       "5963        Morning  \n",
       "5991      Afternoon  \n",
       "6200      Afternoon  \n",
       "\n",
       "[1821 rows x 8 columns]"
      ]
     },
     "execution_count": 18,
     "metadata": {},
     "output_type": "execute_result"
    }
   ],
   "source": [
    "data2"
   ]
  },
  {
   "cell_type": "code",
   "execution_count": 23,
   "id": "d5dc8e36",
   "metadata": {},
   "outputs": [
    {
     "data": {
      "text/plain": [
       "Morning      947\n",
       "Afternoon    723\n",
       "Night         20\n",
       "Name: Time2, dtype: int64"
      ]
     },
     "execution_count": 23,
     "metadata": {},
     "output_type": "execute_result"
    }
   ],
   "source": [
    "data2.Time2.value_counts()"
   ]
  },
  {
   "cell_type": "markdown",
   "id": "f12cb280",
   "metadata": {},
   "source": [
    "Lo siguiente es muy feo "
   ]
  },
  {
   "cell_type": "code",
   "execution_count": 22,
   "id": "3f2b5128",
   "metadata": {},
   "outputs": [],
   "source": [
    "data2.drop(data2.loc[data2['Time2']==\"14h30\"].index, inplace=True)\n",
    "data2.drop(data2.loc[data2['Time2']==\"14h45\"].index, inplace=True)\n",
    "data2.drop(data2.loc[data2['Time2']==\"14h10\"].index, inplace=True)\n",
    "data2.drop(data2.loc[data2['Time2']==\"14h15\"].index, inplace=True)\n",
    "data2.drop(data2.loc[data2['Time2']==\"14h37\"].index, inplace=True)\n",
    "data2.drop(data2.loc[data2['Time2']==\"14h00 - 15h00\"].index, inplace=True)\n",
    "data2.drop(data2.loc[data2['Time2']==\"14h25\"].index, inplace=True)\n",
    "data2.drop(data2.loc[data2['Time2']==\"9h00\"].index, inplace=True)\n",
    "data2.drop(data2.loc[data2['Time2']==\"0830\"].index, inplace=True)\n",
    "data2.drop(data2.loc[data2['Time2']==\"0500\"].index, inplace=True)\n",
    "data2.drop(data2.loc[data2['Time2']==\"14h00 - 15h00 \"].index, inplace=True)\n",
    "data2.drop(data2.loc[data2['Time2']==\"8:04 pm\"].index, inplace=True)\n",
    "data2.drop(data2.loc[data2['Time2']==\"14h20\"].index, inplace=True)\n",
    "data2.drop(data2.loc[data2['Time2']==\"14h50\"].index, inplace=True)\n",
    "data2.drop(data2.loc[data2['Time2']==\"14h40\"].index, inplace=True)\n",
    "data2.drop(data2.loc[data2['Time2']==\" 14h00\"].index, inplace=True)\n",
    "data2.drop(data2.loc[data2['Time2']==\"14h16\"].index, inplace=True)\n",
    "data2.drop(data2.loc[data2['Time2']==\"1600\"].index, inplace=True)\n",
    "data2.drop(data2.loc[data2['Time2']==\"14h55\"].index, inplace=True)\n",
    "data2.drop(data2.loc[data2['Time2']==\"15j45\"].index, inplace=True)\n",
    "data2.drop(data2.loc[data2['Time2']==\"14h35\"].index, inplace=True)\n",
    "data2.drop(data2.loc[data2['Time2']==\"14h21\"].index, inplace=True)\n",
    "data2.drop(data2.loc[data2['Time2']==\"06j00\"].index, inplace=True)\n",
    "data2.drop(data2.loc[data2['Time2']==\"1500\"].index, inplace=True)\n",
    "data2.drop(data2.loc[data2['Time2']==\"14h30 / 15h30\"].index, inplace=True)\n",
    "data2.drop(data2.loc[data2['Time2']==\"14h34\"].index, inplace=True)\n",
    "data2.drop(data2.loc[data2['Time2']==\"14h00  -15h00\"].index, inplace=True)\n",
    "data2.drop(data2.loc[data2['Time2']==\"1300\"].index, inplace=True)"
   ]
  },
  {
   "cell_type": "code",
   "execution_count": 24,
   "id": "ff80e28e",
   "metadata": {},
   "outputs": [],
   "source": [
    "data2.drop('Time', axis=1, inplace=True)"
   ]
  },
  {
   "cell_type": "code",
   "execution_count": 25,
   "id": "4fc33599",
   "metadata": {},
   "outputs": [
    {
     "data": {
      "text/html": [
       "<div>\n",
       "<style scoped>\n",
       "    .dataframe tbody tr th:only-of-type {\n",
       "        vertical-align: middle;\n",
       "    }\n",
       "\n",
       "    .dataframe tbody tr th {\n",
       "        vertical-align: top;\n",
       "    }\n",
       "\n",
       "    .dataframe thead th {\n",
       "        text-align: right;\n",
       "    }\n",
       "</style>\n",
       "<table border=\"1\" class=\"dataframe\">\n",
       "  <thead>\n",
       "    <tr style=\"text-align: right;\">\n",
       "      <th></th>\n",
       "      <th>Date</th>\n",
       "      <th>Year</th>\n",
       "      <th>Type</th>\n",
       "      <th>Sex</th>\n",
       "      <th>Age</th>\n",
       "      <th>Fatal (Y/N)</th>\n",
       "      <th>Time2</th>\n",
       "    </tr>\n",
       "  </thead>\n",
       "  <tbody>\n",
       "    <tr>\n",
       "      <th>0</th>\n",
       "      <td>25-Jun-2018</td>\n",
       "      <td>2018.0</td>\n",
       "      <td>Boating</td>\n",
       "      <td>F</td>\n",
       "      <td>57</td>\n",
       "      <td>N</td>\n",
       "      <td>Afternoon</td>\n",
       "    </tr>\n",
       "    <tr>\n",
       "      <th>2</th>\n",
       "      <td>09-Jun-2018</td>\n",
       "      <td>2018.0</td>\n",
       "      <td>Invalid</td>\n",
       "      <td>M</td>\n",
       "      <td>48</td>\n",
       "      <td>N</td>\n",
       "      <td>Morning</td>\n",
       "    </tr>\n",
       "    <tr>\n",
       "      <th>8</th>\n",
       "      <td>26-May-2018</td>\n",
       "      <td>2018.0</td>\n",
       "      <td>Unprovoked</td>\n",
       "      <td>M</td>\n",
       "      <td>15</td>\n",
       "      <td>N</td>\n",
       "      <td>Afternoon</td>\n",
       "    </tr>\n",
       "    <tr>\n",
       "      <th>12</th>\n",
       "      <td>13-May-2018</td>\n",
       "      <td>2018.0</td>\n",
       "      <td>Unprovoked</td>\n",
       "      <td>M</td>\n",
       "      <td>10</td>\n",
       "      <td>N</td>\n",
       "      <td>Afternoon</td>\n",
       "    </tr>\n",
       "    <tr>\n",
       "      <th>13</th>\n",
       "      <td>13-May-2018</td>\n",
       "      <td>2018.0</td>\n",
       "      <td>Invalid</td>\n",
       "      <td>M</td>\n",
       "      <td>21</td>\n",
       "      <td>N</td>\n",
       "      <td>Morning</td>\n",
       "    </tr>\n",
       "    <tr>\n",
       "      <th>...</th>\n",
       "      <td>...</td>\n",
       "      <td>...</td>\n",
       "      <td>...</td>\n",
       "      <td>...</td>\n",
       "      <td>...</td>\n",
       "      <td>...</td>\n",
       "      <td>...</td>\n",
       "    </tr>\n",
       "    <tr>\n",
       "      <th>5922</th>\n",
       "      <td>13-May-1868</td>\n",
       "      <td>1868.0</td>\n",
       "      <td>Unprovoked</td>\n",
       "      <td>M</td>\n",
       "      <td>35</td>\n",
       "      <td>Y</td>\n",
       "      <td>Morning</td>\n",
       "    </tr>\n",
       "    <tr>\n",
       "      <th>5934</th>\n",
       "      <td>02-Sep-1865</td>\n",
       "      <td>1865.0</td>\n",
       "      <td>Unprovoked</td>\n",
       "      <td>M</td>\n",
       "      <td>17</td>\n",
       "      <td>N</td>\n",
       "      <td>Morning</td>\n",
       "    </tr>\n",
       "    <tr>\n",
       "      <th>5963</th>\n",
       "      <td>22-Dec-1862</td>\n",
       "      <td>1862.0</td>\n",
       "      <td>Unprovoked</td>\n",
       "      <td>M</td>\n",
       "      <td>28</td>\n",
       "      <td>N</td>\n",
       "      <td>Morning</td>\n",
       "    </tr>\n",
       "    <tr>\n",
       "      <th>5991</th>\n",
       "      <td>14-Mar-1858</td>\n",
       "      <td>1858.0</td>\n",
       "      <td>Unprovoked</td>\n",
       "      <td>M</td>\n",
       "      <td>22</td>\n",
       "      <td>Y</td>\n",
       "      <td>Afternoon</td>\n",
       "    </tr>\n",
       "    <tr>\n",
       "      <th>6200</th>\n",
       "      <td>Before 2009</td>\n",
       "      <td>0.0</td>\n",
       "      <td>Unprovoked</td>\n",
       "      <td>F</td>\n",
       "      <td>21</td>\n",
       "      <td>N</td>\n",
       "      <td>Afternoon</td>\n",
       "    </tr>\n",
       "  </tbody>\n",
       "</table>\n",
       "<p>1690 rows × 7 columns</p>\n",
       "</div>"
      ],
      "text/plain": [
       "             Date    Year        Type Sex Age Fatal (Y/N)      Time2\n",
       "0     25-Jun-2018  2018.0     Boating   F  57           N  Afternoon\n",
       "2     09-Jun-2018  2018.0     Invalid   M  48           N    Morning\n",
       "8     26-May-2018  2018.0  Unprovoked   M  15           N  Afternoon\n",
       "12    13-May-2018  2018.0  Unprovoked   M  10           N  Afternoon\n",
       "13    13-May-2018  2018.0     Invalid   M  21           N    Morning\n",
       "...           ...     ...         ...  ..  ..         ...        ...\n",
       "5922  13-May-1868  1868.0  Unprovoked   M  35           Y    Morning\n",
       "5934  02-Sep-1865  1865.0  Unprovoked   M  17           N    Morning\n",
       "5963  22-Dec-1862  1862.0  Unprovoked   M  28           N    Morning\n",
       "5991  14-Mar-1858  1858.0  Unprovoked   M  22           Y  Afternoon\n",
       "6200  Before 2009     0.0  Unprovoked   F  21           N  Afternoon\n",
       "\n",
       "[1690 rows x 7 columns]"
      ]
     },
     "execution_count": 25,
     "metadata": {},
     "output_type": "execute_result"
    }
   ],
   "source": [
    "data2"
   ]
  },
  {
   "cell_type": "markdown",
   "id": "4edcb8d3",
   "metadata": {},
   "source": [
    "Limpieza de la columna Fatal Y/N"
   ]
  },
  {
   "cell_type": "code",
   "execution_count": 35,
   "id": "1d7fe474",
   "metadata": {},
   "outputs": [
    {
     "data": {
      "text/plain": [
       "Y     291\n",
       " N      2\n",
       "Name: Fatal (Y/N), dtype: int64"
      ]
     },
     "execution_count": 35,
     "metadata": {},
     "output_type": "execute_result"
    }
   ],
   "source": [
    "data2['Fatal (Y/N)'].value_counts()"
   ]
  },
  {
   "cell_type": "code",
   "execution_count": 39,
   "id": "f09fb140",
   "metadata": {},
   "outputs": [
    {
     "name": "stderr",
     "output_type": "stream",
     "text": [
      "/usr/local/Caskroom/miniconda/base/lib/python3.8/site-packages/pandas/core/frame.py:4308: SettingWithCopyWarning: \n",
      "A value is trying to be set on a copy of a slice from a DataFrame\n",
      "\n",
      "See the caveats in the documentation: https://pandas.pydata.org/pandas-docs/stable/user_guide/indexing.html#returning-a-view-versus-a-copy\n",
      "  return super().drop(\n"
     ]
    }
   ],
   "source": [
    "data2.drop(data2.loc[data2['Fatal (Y/N)']==\"N\"].index, inplace=True)\n",
    "data2.drop(data2.loc[data2['Fatal (Y/N)']==\"UNKNOWN\"].index, inplace=True)"
   ]
  },
  {
   "cell_type": "code",
   "execution_count": 44,
   "id": "4bd9c7e3",
   "metadata": {},
   "outputs": [],
   "source": [
    "data.drop(data.loc[data['Fatal (Y/N)']==\"N\"].index, inplace=True)\n",
    "data.drop(data.loc[data['Fatal (Y/N)']==\"UNKNOWN\"].index, inplace=True)"
   ]
  },
  {
   "cell_type": "markdown",
   "id": "6a988699",
   "metadata": {},
   "source": [
    " # Análisis de datos"
   ]
  },
  {
   "cell_type": "markdown",
   "id": "8ef1c84a",
   "metadata": {},
   "source": [
    "### Hipótesis 1"
   ]
  },
  {
   "cell_type": "code",
   "execution_count": 55,
   "id": "87e1096e",
   "metadata": {},
   "outputs": [],
   "source": [
    "import seaborn as sns\n",
    "import matplotlib.pyplot as plt"
   ]
  },
  {
   "cell_type": "code",
   "execution_count": 27,
   "id": "fc5189cc",
   "metadata": {},
   "outputs": [
    {
     "data": {
      "text/plain": [
       "<AxesSubplot:xlabel='Time2', ylabel='count'>"
      ]
     },
     "execution_count": 27,
     "metadata": {},
     "output_type": "execute_result"
    },
    {
     "data": {
      "image/png": "[encoded data removed]",
      "text/plain": [
       "<Figure size 432x288 with 1 Axes>"
      ]
     },
     "metadata": {
      "needs_background": "light"
     },
     "output_type": "display_data"
    }
   ],
   "source": [
    "sns.countplot(x=data2.Time2)"
   ]
  },
  {
   "cell_type": "code",
   "execution_count": null,
   "id": "23ef4194",
   "metadata": {},
   "outputs": [],
   "source": [
    "sns.countplot(x=data2.Time2)"
   ]
  },
  {
   "cell_type": "code",
   "execution_count": 58,
   "id": "f7755b10",
   "metadata": {},
   "outputs": [
    {
     "data": {
      "text/plain": [
       "<AxesSubplot:xlabel='Time2', ylabel='count'>"
      ]
     },
     "execution_count": 58,
     "metadata": {},
     "output_type": "execute_result"
    },
    {
     "data": {
      "image/png": "[encoded data removed]",
      "text/plain": [
       "<Figure size 432x288 with 1 Axes>"
      ]
     },
     "metadata": {
      "needs_background": "light"
     },
     "output_type": "display_data"
    }
   ],
   "source": [
    "sns.countplot(x=\"Time2\", hue=\"Fatal (Y/N)\", data=data2)"
   ]
  },
  {
   "cell_type": "code",
   "execution_count": 57,
   "id": "c19032eb",
   "metadata": {},
   "outputs": [
    {
     "data": {
      "text/plain": [
       "<AxesSubplot:xlabel='Fatal (Y/N)', ylabel='count'>"
      ]
     },
     "execution_count": 57,
     "metadata": {},
     "output_type": "execute_result"
    },
    {
     "data": {
      "image/png": "[encoded data removed]",
      "text/plain": [
       "<Figure size 432x288 with 1 Axes>"
      ]
     },
     "metadata": {
      "needs_background": "light"
     },
     "output_type": "display_data"
    }
   ],
   "source": [
    "sns.countplot(x=\"Fatal (Y/N)\", hue=\"Time2\", data=data2)"
   ]
  },
  {
   "cell_type": "markdown",
   "id": "34839617",
   "metadata": {},
   "source": [
    "# Hipótesis 2\n"
   ]
  },
  {
   "cell_type": "markdown",
   "id": "77495716",
   "metadata": {},
   "source": [
    "Comprobar que la gente joven es aquella que provoca los ataques, y la gente mayor los invalidos. \n"
   ]
  },
  {
   "cell_type": "code",
   "execution_count": 124,
   "id": "d3c8579e",
   "metadata": {},
   "outputs": [],
   "source": [
    "# Empezamos por la limpieza de datos\n",
    "# Nos centramos en el data ya que data 2 ha sido manipulado en exceso para time "
   ]
  },
  {
   "cell_type": "code",
   "execution_count": 141,
   "id": "090a015b",
   "metadata": {},
   "outputs": [
    {
     "data": {
      "text/plain": [
       "count     816\n",
       "unique     73\n",
       "top        17\n",
       "freq       44\n",
       "Name: Age, dtype: object"
      ]
     },
     "execution_count": 141,
     "metadata": {},
     "output_type": "execute_result"
    }
   ],
   "source": [
    "data3.Age.describe()"
   ]
  },
  {
   "cell_type": "code",
   "execution_count": 143,
   "id": "60073303",
   "metadata": {},
   "outputs": [
    {
     "data": {
      "text/plain": [
       "1      2\n",
       "10    12\n",
       "11     9\n",
       "12    12\n",
       "13    20\n",
       "      ..\n",
       "77     2\n",
       "78     2\n",
       "8      6\n",
       "84     1\n",
       "9      7\n",
       "Name: Age, Length: 73, dtype: int64"
      ]
     },
     "execution_count": 143,
     "metadata": {},
     "output_type": "execute_result"
    }
   ],
   "source": [
    "data3.Age.value_counts().sort_index()"
   ]
  },
  {
   "cell_type": "code",
   "execution_count": 136,
   "id": "7c9dd033",
   "metadata": {},
   "outputs": [],
   "source": [
    "data.dropna(subset=['Age'], inplace=True)"
   ]
  },
  {
   "cell_type": "code",
   "execution_count": 169,
   "id": "e41c75fd",
   "metadata": {},
   "outputs": [],
   "source": [
    "#Creo que es para que solo coja los numeros de age\n",
    "data = data[data['Age'].apply(lambda x: str(x).isdigit())]"
   ]
  },
  {
   "cell_type": "code",
   "execution_count": 170,
   "id": "77ed2762",
   "metadata": {},
   "outputs": [
    {
     "data": {
      "text/html": [
       "<div>\n",
       "<style scoped>\n",
       "    .dataframe tbody tr th:only-of-type {\n",
       "        vertical-align: middle;\n",
       "    }\n",
       "\n",
       "    .dataframe tbody tr th {\n",
       "        vertical-align: top;\n",
       "    }\n",
       "\n",
       "    .dataframe thead th {\n",
       "        text-align: right;\n",
       "    }\n",
       "</style>\n",
       "<table border=\"1\" class=\"dataframe\">\n",
       "  <thead>\n",
       "    <tr style=\"text-align: right;\">\n",
       "      <th></th>\n",
       "      <th>Date</th>\n",
       "      <th>Year</th>\n",
       "      <th>Type</th>\n",
       "      <th>Sex</th>\n",
       "      <th>Age</th>\n",
       "      <th>Fatal (Y/N)</th>\n",
       "      <th>Time</th>\n",
       "    </tr>\n",
       "  </thead>\n",
       "  <tbody>\n",
       "    <tr>\n",
       "      <th>6</th>\n",
       "      <td>03-Jun-2018</td>\n",
       "      <td>2018.0</td>\n",
       "      <td>Unprovoked</td>\n",
       "      <td>M</td>\n",
       "      <td>18</td>\n",
       "      <td>Y</td>\n",
       "      <td>Late afternoon</td>\n",
       "    </tr>\n",
       "    <tr>\n",
       "      <th>27</th>\n",
       "      <td>15-Apr-2018</td>\n",
       "      <td>2018.0</td>\n",
       "      <td>Unprovoked</td>\n",
       "      <td>M</td>\n",
       "      <td>34</td>\n",
       "      <td>NaN</td>\n",
       "      <td>NaN</td>\n",
       "    </tr>\n",
       "    <tr>\n",
       "      <th>58</th>\n",
       "      <td>30-Nov-2017</td>\n",
       "      <td>2017.0</td>\n",
       "      <td>Unprovoked</td>\n",
       "      <td>F</td>\n",
       "      <td>49</td>\n",
       "      <td>Y</td>\n",
       "      <td>NaN</td>\n",
       "    </tr>\n",
       "    <tr>\n",
       "      <th>64</th>\n",
       "      <td>04-Nov-2017</td>\n",
       "      <td>2017.0</td>\n",
       "      <td>Unprovoked</td>\n",
       "      <td>M</td>\n",
       "      <td>22</td>\n",
       "      <td>Y</td>\n",
       "      <td>23h30</td>\n",
       "    </tr>\n",
       "    <tr>\n",
       "      <th>76</th>\n",
       "      <td>01-Oct-2017</td>\n",
       "      <td>2017.0</td>\n",
       "      <td>Invalid</td>\n",
       "      <td>M</td>\n",
       "      <td>31</td>\n",
       "      <td>NaN</td>\n",
       "      <td>NaN</td>\n",
       "    </tr>\n",
       "    <tr>\n",
       "      <th>...</th>\n",
       "      <td>...</td>\n",
       "      <td>...</td>\n",
       "      <td>...</td>\n",
       "      <td>...</td>\n",
       "      <td>...</td>\n",
       "      <td>...</td>\n",
       "      <td>...</td>\n",
       "    </tr>\n",
       "    <tr>\n",
       "      <th>6114</th>\n",
       "      <td>11-May-1817</td>\n",
       "      <td>1817.0</td>\n",
       "      <td>Unprovoked</td>\n",
       "      <td>M</td>\n",
       "      <td>22</td>\n",
       "      <td>Y</td>\n",
       "      <td>Evening</td>\n",
       "    </tr>\n",
       "    <tr>\n",
       "      <th>6184</th>\n",
       "      <td>Before Oct-2009</td>\n",
       "      <td>0.0</td>\n",
       "      <td>Unprovoked</td>\n",
       "      <td>M</td>\n",
       "      <td>20</td>\n",
       "      <td>Y</td>\n",
       "      <td>NaN</td>\n",
       "    </tr>\n",
       "    <tr>\n",
       "      <th>6254</th>\n",
       "      <td>Before 1957</td>\n",
       "      <td>0.0</td>\n",
       "      <td>Provoked</td>\n",
       "      <td>M</td>\n",
       "      <td>50</td>\n",
       "      <td>Y</td>\n",
       "      <td>NaN</td>\n",
       "    </tr>\n",
       "    <tr>\n",
       "      <th>6276</th>\n",
       "      <td>Early 1930s</td>\n",
       "      <td>0.0</td>\n",
       "      <td>Unprovoked</td>\n",
       "      <td>M</td>\n",
       "      <td>16</td>\n",
       "      <td>Y</td>\n",
       "      <td>NaN</td>\n",
       "    </tr>\n",
       "    <tr>\n",
       "      <th>6301</th>\n",
       "      <td>1845-1853</td>\n",
       "      <td>0.0</td>\n",
       "      <td>Unprovoked</td>\n",
       "      <td>M</td>\n",
       "      <td>15</td>\n",
       "      <td>Y</td>\n",
       "      <td>NaN</td>\n",
       "    </tr>\n",
       "  </tbody>\n",
       "</table>\n",
       "<p>816 rows × 7 columns</p>\n",
       "</div>"
      ],
      "text/plain": [
       "                 Date    Year        Type Sex Age Fatal (Y/N)            Time\n",
       "6         03-Jun-2018  2018.0  Unprovoked   M  18           Y  Late afternoon\n",
       "27        15-Apr-2018  2018.0  Unprovoked   M  34         NaN             NaN\n",
       "58        30-Nov-2017  2017.0  Unprovoked   F  49           Y             NaN\n",
       "64        04-Nov-2017  2017.0  Unprovoked   M  22           Y           23h30\n",
       "76        01-Oct-2017  2017.0     Invalid   M  31         NaN             NaN\n",
       "...               ...     ...         ...  ..  ..         ...             ...\n",
       "6114      11-May-1817  1817.0  Unprovoked   M  22           Y         Evening\n",
       "6184  Before Oct-2009     0.0  Unprovoked   M  20           Y             NaN\n",
       "6254      Before 1957     0.0    Provoked   M  50           Y             NaN\n",
       "6276      Early 1930s     0.0  Unprovoked   M  16           Y             NaN\n",
       "6301        1845-1853     0.0  Unprovoked   M  15           Y             NaN\n",
       "\n",
       "[816 rows x 7 columns]"
      ]
     },
     "execution_count": 170,
     "metadata": {},
     "output_type": "execute_result"
    }
   ],
   "source": [
    "data"
   ]
  },
  {
   "cell_type": "code",
   "execution_count": 145,
   "id": "7b0811fe",
   "metadata": {},
   "outputs": [
    {
     "data": {
      "text/plain": [
       "<AxesSubplot:xlabel='Age', ylabel='Density'>"
      ]
     },
     "execution_count": 145,
     "metadata": {},
     "output_type": "execute_result"
    },
    {
     "data": {
      "image/png": "[encoded data removed]",
      "text/plain": [
       "<Figure size 432x288 with 1 Axes>"
      ]
     },
     "metadata": {
      "needs_background": "light"
     },
     "output_type": "display_data"
    }
   ],
   "source": [
    "sns.kdeplot(data3[\"Age\"].astype(\"float\"))"
   ]
  },
  {
   "cell_type": "markdown",
   "id": "6dfdad3a",
   "metadata": {},
   "source": [
    "Limpieza de Type "
   ]
  },
  {
   "cell_type": "code",
   "execution_count": 132,
   "id": "2fc8c4ad",
   "metadata": {},
   "outputs": [
    {
     "data": {
      "text/plain": [
       "count            854\n",
       "unique             5\n",
       "top       Unprovoked\n",
       "freq             588\n",
       "Name: Type, dtype: object"
      ]
     },
     "execution_count": 132,
     "metadata": {},
     "output_type": "execute_result"
    }
   ],
   "source": [
    "data.Type.describe()"
   ]
  },
  {
   "cell_type": "code",
   "execution_count": 133,
   "id": "265fca1e",
   "metadata": {},
   "outputs": [
    {
     "data": {
      "text/plain": [
       "Unprovoked      588\n",
       "Invalid         228\n",
       "Sea Disaster     22\n",
       "Provoked         14\n",
       "Boating           2\n",
       "Name: Type, dtype: int64"
      ]
     },
     "execution_count": 133,
     "metadata": {},
     "output_type": "execute_result"
    }
   ],
   "source": [
    "data.Type.value_counts()"
   ]
  },
  {
   "cell_type": "code",
   "execution_count": null,
   "id": "6b6995f3",
   "metadata": {},
   "outputs": [],
   "source": [
    "# No resulta necesaria su limpieza\n"
   ]
  },
  {
   "cell_type": "markdown",
   "id": "05489f6d",
   "metadata": {},
   "source": [
    "Gráfico de la segunda hipótesis \n"
   ]
  },
  {
   "cell_type": "code",
   "execution_count": 172,
   "id": "d53ce127",
   "metadata": {},
   "outputs": [],
   "source": [
    "import matplotlib.pyplot as plt"
   ]
  },
  {
   "cell_type": "code",
   "execution_count": null,
   "id": "39e896b2",
   "metadata": {},
   "outputs": [],
   "source": []
  }
 ],
 "metadata": {
  "kernelspec": {
   "display_name": "Python 3",
   "language": "python",
   "name": "python3"
  },
  "language_info": {
   "codemirror_mode": {
    "name": "ipython",
    "version": 3
   },
   "file_extension": ".py",
   "mimetype": "text/x-python",
   "name": "python",
   "nbconvert_exporter": "python",
   "pygments_lexer": "ipython3",
   "version": "3.8.5"
  }
 },
 "nbformat": 4,
 "nbformat_minor": 5
}
